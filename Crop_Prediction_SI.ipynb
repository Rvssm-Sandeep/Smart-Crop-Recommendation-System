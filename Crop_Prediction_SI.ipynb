{
  "cells": [
    {
      "cell_type": "markdown",
      "metadata": {
        "id": "KrgF875RYe5Z"
      },
      "source": [
        "Libraries"
      ]
    },
    {
      "cell_type": "code",
      "execution_count": null,
      "metadata": {
        "id": "f95aRSFwPYXZ"
      },
      "outputs": [],
      "source": [
        "import pandas as pd\n",
        "import numpy as np\n",
        "import matplotlib.pyplot as plt\n",
        "import seaborn as sns"
      ]
    },
    {
      "cell_type": "code",
      "execution_count": 142,
      "metadata": {
        "colab": {
          "base_uri": "https://localhost:8080/"
        },
        "id": "efE7u2c-PthZ",
        "outputId": "099abb1a-ae2f-464f-f58d-b36924d22a69"
      },
      "outputs": [
        {
          "name": "stdout",
          "output_type": "stream",
          "text": [
            "                  N             P             K            pH      rainfall  \\\n",
            "count  99849.000000  99849.000000  99849.000000  99849.000000  99849.000000   \n",
            "mean      69.816823     41.593656     42.037827      5.643624    701.151085   \n",
            "std       39.571469     15.056508     28.430263      0.505283    604.701552   \n",
            "min       10.000000     10.000000     10.000000      3.820000      3.274569   \n",
            "25%       50.000000     40.000000     20.000000      5.360000    157.310000   \n",
            "50%       75.000000     40.000000     30.000000      5.540000    579.750000   \n",
            "75%       80.000000     60.000000     50.000000      5.960000   1110.780000   \n",
            "max      180.000000    125.000000    200.000000      7.000000   3322.060000   \n",
            "\n",
            "        temperature  Area_in_hectares  Production_in_tons  Yield_ton_per_hec  \n",
            "count  99849.000000      99849.000000        9.984900e+04       99849.000000  \n",
            "mean      26.684154      16476.585668        3.776291e+04           3.931149  \n",
            "std        4.851214      43604.268231        1.222447e+05          33.872242  \n",
            "min        1.180000          0.580000        0.000000e+00           0.000000  \n",
            "25%       23.106000        130.000000        1.620000e+02           0.586207  \n",
            "50%       27.333333       1010.000000        1.506000e+03           1.329268  \n",
            "75%       29.266667       8099.000000        1.439500e+04           2.997288  \n",
            "max       35.346667     726300.000000        3.530571e+06        9801.000000  \n"
          ]
        }
      ],
      "source": [
        "data=pd.read_csv(\"Dataset.csv\")\n"
      ]
    },
    {
      "cell_type": "code",
      "execution_count": 136,
      "metadata": {
        "colab": {
          "base_uri": "https://localhost:8080/"
        },
        "id": "tOrnn1hAPxj1",
        "outputId": "00349ddd-b076-493e-b8cb-3f00d88023e2"
      },
      "outputs": [
        {
          "data": {
            "text/plain": [
              "(99849, 12)"
            ]
          },
          "execution_count": 136,
          "metadata": {},
          "output_type": "execute_result"
        }
      ],
      "source": [
        "data.shape"
      ]
    },
    {
      "cell_type": "code",
      "execution_count": 139,
      "metadata": {
        "colab": {
          "base_uri": "https://localhost:8080/"
        },
        "id": "vanfRFLbQTIt",
        "outputId": "8663b739-e729-4a02-d283-fcb7c04152a5"
      },
      "outputs": [
        {
          "data": {
            "text/html": [
              "<div>\n",
              "<style scoped>\n",
              "    .dataframe tbody tr th:only-of-type {\n",
              "        vertical-align: middle;\n",
              "    }\n",
              "\n",
              "    .dataframe tbody tr th {\n",
              "        vertical-align: top;\n",
              "    }\n",
              "\n",
              "    .dataframe thead th {\n",
              "        text-align: right;\n",
              "    }\n",
              "</style>\n",
              "<table border=\"1\" class=\"dataframe\">\n",
              "  <thead>\n",
              "    <tr style=\"text-align: right;\">\n",
              "      <th></th>\n",
              "      <th>N</th>\n",
              "      <th>P</th>\n",
              "      <th>K</th>\n",
              "      <th>pH</th>\n",
              "      <th>rainfall</th>\n",
              "      <th>temperature</th>\n",
              "      <th>Area</th>\n",
              "      <th>Production</th>\n",
              "      <th>Yield</th>\n",
              "    </tr>\n",
              "  </thead>\n",
              "  <tbody>\n",
              "    <tr>\n",
              "      <th>count</th>\n",
              "      <td>99849.000000</td>\n",
              "      <td>99849.000000</td>\n",
              "      <td>99849.000000</td>\n",
              "      <td>99849.000000</td>\n",
              "      <td>99849.000000</td>\n",
              "      <td>99849.000000</td>\n",
              "      <td>99849.000000</td>\n",
              "      <td>9.984900e+04</td>\n",
              "      <td>99849.000000</td>\n",
              "    </tr>\n",
              "    <tr>\n",
              "      <th>mean</th>\n",
              "      <td>69.816823</td>\n",
              "      <td>41.593656</td>\n",
              "      <td>42.037827</td>\n",
              "      <td>5.643624</td>\n",
              "      <td>701.151085</td>\n",
              "      <td>26.684154</td>\n",
              "      <td>16476.585668</td>\n",
              "      <td>3.776291e+04</td>\n",
              "      <td>3.931149</td>\n",
              "    </tr>\n",
              "    <tr>\n",
              "      <th>std</th>\n",
              "      <td>39.571469</td>\n",
              "      <td>15.056508</td>\n",
              "      <td>28.430263</td>\n",
              "      <td>0.505283</td>\n",
              "      <td>604.701552</td>\n",
              "      <td>4.851214</td>\n",
              "      <td>43604.268231</td>\n",
              "      <td>1.222447e+05</td>\n",
              "      <td>33.872242</td>\n",
              "    </tr>\n",
              "    <tr>\n",
              "      <th>min</th>\n",
              "      <td>10.000000</td>\n",
              "      <td>10.000000</td>\n",
              "      <td>10.000000</td>\n",
              "      <td>3.820000</td>\n",
              "      <td>3.274569</td>\n",
              "      <td>1.180000</td>\n",
              "      <td>0.580000</td>\n",
              "      <td>0.000000e+00</td>\n",
              "      <td>0.000000</td>\n",
              "    </tr>\n",
              "    <tr>\n",
              "      <th>25%</th>\n",
              "      <td>50.000000</td>\n",
              "      <td>40.000000</td>\n",
              "      <td>20.000000</td>\n",
              "      <td>5.360000</td>\n",
              "      <td>157.310000</td>\n",
              "      <td>23.106000</td>\n",
              "      <td>130.000000</td>\n",
              "      <td>1.620000e+02</td>\n",
              "      <td>0.586207</td>\n",
              "    </tr>\n",
              "    <tr>\n",
              "      <th>50%</th>\n",
              "      <td>75.000000</td>\n",
              "      <td>40.000000</td>\n",
              "      <td>30.000000</td>\n",
              "      <td>5.540000</td>\n",
              "      <td>579.750000</td>\n",
              "      <td>27.333333</td>\n",
              "      <td>1010.000000</td>\n",
              "      <td>1.506000e+03</td>\n",
              "      <td>1.329268</td>\n",
              "    </tr>\n",
              "    <tr>\n",
              "      <th>75%</th>\n",
              "      <td>80.000000</td>\n",
              "      <td>60.000000</td>\n",
              "      <td>50.000000</td>\n",
              "      <td>5.960000</td>\n",
              "      <td>1110.780000</td>\n",
              "      <td>29.266667</td>\n",
              "      <td>8099.000000</td>\n",
              "      <td>1.439500e+04</td>\n",
              "      <td>2.997288</td>\n",
              "    </tr>\n",
              "    <tr>\n",
              "      <th>max</th>\n",
              "      <td>180.000000</td>\n",
              "      <td>125.000000</td>\n",
              "      <td>200.000000</td>\n",
              "      <td>7.000000</td>\n",
              "      <td>3322.060000</td>\n",
              "      <td>35.346667</td>\n",
              "      <td>726300.000000</td>\n",
              "      <td>3.530571e+06</td>\n",
              "      <td>9801.000000</td>\n",
              "    </tr>\n",
              "  </tbody>\n",
              "</table>\n",
              "</div>"
            ],
            "text/plain": [
              "                  N             P             K            pH      rainfall  \\\n",
              "count  99849.000000  99849.000000  99849.000000  99849.000000  99849.000000   \n",
              "mean      69.816823     41.593656     42.037827      5.643624    701.151085   \n",
              "std       39.571469     15.056508     28.430263      0.505283    604.701552   \n",
              "min       10.000000     10.000000     10.000000      3.820000      3.274569   \n",
              "25%       50.000000     40.000000     20.000000      5.360000    157.310000   \n",
              "50%       75.000000     40.000000     30.000000      5.540000    579.750000   \n",
              "75%       80.000000     60.000000     50.000000      5.960000   1110.780000   \n",
              "max      180.000000    125.000000    200.000000      7.000000   3322.060000   \n",
              "\n",
              "        temperature           Area    Production         Yield  \n",
              "count  99849.000000   99849.000000  9.984900e+04  99849.000000  \n",
              "mean      26.684154   16476.585668  3.776291e+04      3.931149  \n",
              "std        4.851214   43604.268231  1.222447e+05     33.872242  \n",
              "min        1.180000       0.580000  0.000000e+00      0.000000  \n",
              "25%       23.106000     130.000000  1.620000e+02      0.586207  \n",
              "50%       27.333333    1010.000000  1.506000e+03      1.329268  \n",
              "75%       29.266667    8099.000000  1.439500e+04      2.997288  \n",
              "max       35.346667  726300.000000  3.530571e+06   9801.000000  "
            ]
          },
          "execution_count": 139,
          "metadata": {},
          "output_type": "execute_result"
        }
      ],
      "source": [
        "\n",
        "data.describe()"
      ]
    },
    {
      "cell_type": "code",
      "execution_count": 137,
      "metadata": {
        "colab": {
          "base_uri": "https://localhost:8080/",
          "height": 206
        },
        "id": "Wq09LAx9SNGB",
        "outputId": "803e6ef6-0204-4fe7-a5db-25cd13d368ce"
      },
      "outputs": [
        {
          "data": {
            "text/html": [
              "<div>\n",
              "<style scoped>\n",
              "    .dataframe tbody tr th:only-of-type {\n",
              "        vertical-align: middle;\n",
              "    }\n",
              "\n",
              "    .dataframe tbody tr th {\n",
              "        vertical-align: top;\n",
              "    }\n",
              "\n",
              "    .dataframe thead th {\n",
              "        text-align: right;\n",
              "    }\n",
              "</style>\n",
              "<table border=\"1\" class=\"dataframe\">\n",
              "  <thead>\n",
              "    <tr style=\"text-align: right;\">\n",
              "      <th></th>\n",
              "      <th>N</th>\n",
              "      <th>P</th>\n",
              "      <th>K</th>\n",
              "      <th>pH</th>\n",
              "      <th>rainfall</th>\n",
              "      <th>temperature</th>\n",
              "      <th>Area</th>\n",
              "      <th>Production</th>\n",
              "      <th>Yield</th>\n",
              "    </tr>\n",
              "  </thead>\n",
              "  <tbody>\n",
              "    <tr>\n",
              "      <th>count</th>\n",
              "      <td>99849.000000</td>\n",
              "      <td>99849.000000</td>\n",
              "      <td>99849.000000</td>\n",
              "      <td>99849.000000</td>\n",
              "      <td>99849.000000</td>\n",
              "      <td>99849.000000</td>\n",
              "      <td>99849.000000</td>\n",
              "      <td>9.984900e+04</td>\n",
              "      <td>99849.000000</td>\n",
              "    </tr>\n",
              "    <tr>\n",
              "      <th>mean</th>\n",
              "      <td>69.816823</td>\n",
              "      <td>41.593656</td>\n",
              "      <td>42.037827</td>\n",
              "      <td>5.643624</td>\n",
              "      <td>701.151085</td>\n",
              "      <td>26.684154</td>\n",
              "      <td>16476.585668</td>\n",
              "      <td>3.776291e+04</td>\n",
              "      <td>3.931149</td>\n",
              "    </tr>\n",
              "    <tr>\n",
              "      <th>std</th>\n",
              "      <td>39.571469</td>\n",
              "      <td>15.056508</td>\n",
              "      <td>28.430263</td>\n",
              "      <td>0.505283</td>\n",
              "      <td>604.701552</td>\n",
              "      <td>4.851214</td>\n",
              "      <td>43604.268231</td>\n",
              "      <td>1.222447e+05</td>\n",
              "      <td>33.872242</td>\n",
              "    </tr>\n",
              "    <tr>\n",
              "      <th>min</th>\n",
              "      <td>10.000000</td>\n",
              "      <td>10.000000</td>\n",
              "      <td>10.000000</td>\n",
              "      <td>3.820000</td>\n",
              "      <td>3.274569</td>\n",
              "      <td>1.180000</td>\n",
              "      <td>0.580000</td>\n",
              "      <td>0.000000e+00</td>\n",
              "      <td>0.000000</td>\n",
              "    </tr>\n",
              "    <tr>\n",
              "      <th>25%</th>\n",
              "      <td>50.000000</td>\n",
              "      <td>40.000000</td>\n",
              "      <td>20.000000</td>\n",
              "      <td>5.360000</td>\n",
              "      <td>157.310000</td>\n",
              "      <td>23.106000</td>\n",
              "      <td>130.000000</td>\n",
              "      <td>1.620000e+02</td>\n",
              "      <td>0.586207</td>\n",
              "    </tr>\n",
              "    <tr>\n",
              "      <th>50%</th>\n",
              "      <td>75.000000</td>\n",
              "      <td>40.000000</td>\n",
              "      <td>30.000000</td>\n",
              "      <td>5.540000</td>\n",
              "      <td>579.750000</td>\n",
              "      <td>27.333333</td>\n",
              "      <td>1010.000000</td>\n",
              "      <td>1.506000e+03</td>\n",
              "      <td>1.329268</td>\n",
              "    </tr>\n",
              "    <tr>\n",
              "      <th>75%</th>\n",
              "      <td>80.000000</td>\n",
              "      <td>60.000000</td>\n",
              "      <td>50.000000</td>\n",
              "      <td>5.960000</td>\n",
              "      <td>1110.780000</td>\n",
              "      <td>29.266667</td>\n",
              "      <td>8099.000000</td>\n",
              "      <td>1.439500e+04</td>\n",
              "      <td>2.997288</td>\n",
              "    </tr>\n",
              "    <tr>\n",
              "      <th>max</th>\n",
              "      <td>180.000000</td>\n",
              "      <td>125.000000</td>\n",
              "      <td>200.000000</td>\n",
              "      <td>7.000000</td>\n",
              "      <td>3322.060000</td>\n",
              "      <td>35.346667</td>\n",
              "      <td>726300.000000</td>\n",
              "      <td>3.530571e+06</td>\n",
              "      <td>9801.000000</td>\n",
              "    </tr>\n",
              "  </tbody>\n",
              "</table>\n",
              "</div>"
            ],
            "text/plain": [
              "                  N             P             K            pH      rainfall  \\\n",
              "count  99849.000000  99849.000000  99849.000000  99849.000000  99849.000000   \n",
              "mean      69.816823     41.593656     42.037827      5.643624    701.151085   \n",
              "std       39.571469     15.056508     28.430263      0.505283    604.701552   \n",
              "min       10.000000     10.000000     10.000000      3.820000      3.274569   \n",
              "25%       50.000000     40.000000     20.000000      5.360000    157.310000   \n",
              "50%       75.000000     40.000000     30.000000      5.540000    579.750000   \n",
              "75%       80.000000     60.000000     50.000000      5.960000   1110.780000   \n",
              "max      180.000000    125.000000    200.000000      7.000000   3322.060000   \n",
              "\n",
              "        temperature           Area    Production         Yield  \n",
              "count  99849.000000   99849.000000  9.984900e+04  99849.000000  \n",
              "mean      26.684154   16476.585668  3.776291e+04      3.931149  \n",
              "std        4.851214   43604.268231  1.222447e+05     33.872242  \n",
              "min        1.180000       0.580000  0.000000e+00      0.000000  \n",
              "25%       23.106000     130.000000  1.620000e+02      0.586207  \n",
              "50%       27.333333    1010.000000  1.506000e+03      1.329268  \n",
              "75%       29.266667    8099.000000  1.439500e+04      2.997288  \n",
              "max       35.346667  726300.000000  3.530571e+06   9801.000000  "
            ]
          },
          "execution_count": 137,
          "metadata": {},
          "output_type": "execute_result"
        }
      ],
      "source": [
        "data=data.rename(columns={\"State_Name\":\"State\",'Crop_Type':'Season','Area_in_hectares':'Area', 'Production_in_tons':'Production','Yield_ton_per_hec':'Yield'})\n",
        "data.head()\n"
      ]
    },
    {
      "cell_type": "markdown",
      "metadata": {
        "id": "6F0HKkglYl3C"
      },
      "source": [
        "Finding Null Values"
      ]
    },
    {
      "cell_type": "code",
      "execution_count": null,
      "metadata": {
        "colab": {
          "base_uri": "https://localhost:8080/"
        },
        "id": "BEVmVhRWTj1B",
        "outputId": "28734df1-114b-4d4f-f9f3-4736838847ef"
      },
      "outputs": [],
      "source": [
        "data.isnull().sum()"
      ]
    },
    {
      "cell_type": "markdown",
      "metadata": {
        "id": "veeQ2lvFakm3"
      },
      "source": [
        "Handling Outliers"
      ]
    },
    {
      "cell_type": "code",
      "execution_count": null,
      "metadata": {
        "colab": {
          "base_uri": "https://localhost:8080/",
          "height": 447
        },
        "id": "FDhm1TVQarzB",
        "outputId": "95d96ba5-0131-4c98-ddb8-8e7c42c417f0"
      },
      "outputs": [],
      "source": [
        "sns.boxplot(data['N'])"
      ]
    },
    {
      "cell_type": "code",
      "execution_count": null,
      "metadata": {
        "id": "ufW1bZQ9dWvu"
      },
      "outputs": [],
      "source": [
        "quart=data['N'].quantile(q=[0.75,0.25]).tolist()\n",
        "q1=quart[1]\n",
        "q3=quart[0]\n",
        "Iqr=q3-q1\n",
        "min=q1-1.5*Iqr\n",
        "#print(min)\n",
        "max=q3+1.5*Iqr\n",
        "#print(max)\n",
        "data['N']=np.where(data['N']>max,max,data['N'])"
      ]
    },
    {
      "cell_type": "code",
      "execution_count": null,
      "metadata": {
        "colab": {
          "base_uri": "https://localhost:8080/",
          "height": 447
        },
        "id": "cghwiCYwauFc",
        "outputId": "32caf08a-4d9c-4d33-b023-da106fb571d6"
      },
      "outputs": [],
      "source": [
        "sns.boxplot(data['N'])"
      ]
    },
    {
      "cell_type": "code",
      "execution_count": null,
      "metadata": {
        "colab": {
          "base_uri": "https://localhost:8080/",
          "height": 447
        },
        "id": "0tFBhffVauUl",
        "outputId": "23484ac2-0982-47e9-8824-1210f51a1778"
      },
      "outputs": [],
      "source": [
        "sns.boxplot(data['P'])"
      ]
    },
    {
      "cell_type": "code",
      "execution_count": null,
      "metadata": {
        "id": "GfiM9O5sfArn"
      },
      "outputs": [],
      "source": [
        "quart=data['P'].quantile(q=[0.75,0.25]).tolist()\n",
        "q1=quart[1]\n",
        "q3=quart[0]\n",
        "Iqr=q3-q1\n",
        "min=q1-1.5*Iqr\n",
        "#print(min)\n",
        "max=q3+1.5*Iqr\n",
        "#print(max)\n",
        "data['P']=np.where(data['P']>max,max,data['P'])"
      ]
    },
    {
      "cell_type": "code",
      "execution_count": null,
      "metadata": {
        "colab": {
          "base_uri": "https://localhost:8080/",
          "height": 447
        },
        "id": "ynJIOMyLfA7m",
        "outputId": "3411ef50-a705-4316-93fd-ed1f7acaf59f"
      },
      "outputs": [],
      "source": [
        "sns.boxplot(data['P'])"
      ]
    },
    {
      "cell_type": "code",
      "execution_count": null,
      "metadata": {
        "colab": {
          "base_uri": "https://localhost:8080/",
          "height": 447
        },
        "id": "GMSB-3nraue6",
        "outputId": "563182de-2558-409c-9e56-63a84e2899e4"
      },
      "outputs": [],
      "source": [
        "sns.boxplot(data['K'])"
      ]
    },
    {
      "cell_type": "code",
      "execution_count": null,
      "metadata": {
        "id": "Oxy5QEV6fB0Y"
      },
      "outputs": [],
      "source": [
        "quart=data['K'].quantile(q=[0.75,0.25]).tolist()\n",
        "q1=quart[1]\n",
        "q3=quart[0]\n",
        "Iqr=q3-q1\n",
        "min=q1-1.5*Iqr\n",
        "#print(min)\n",
        "max=q3+1.5*Iqr\n",
        "#print(max)\n",
        "data['K']=np.where(data['K']>max,max,data['K'])"
      ]
    },
    {
      "cell_type": "code",
      "execution_count": null,
      "metadata": {
        "colab": {
          "base_uri": "https://localhost:8080/",
          "height": 447
        },
        "id": "4tk4NopffB3z",
        "outputId": "9e5760a7-2c50-4423-b42b-2cbacf808311"
      },
      "outputs": [],
      "source": [
        "sns.boxplot(data['K'])"
      ]
    },
    {
      "cell_type": "code",
      "execution_count": null,
      "metadata": {
        "colab": {
          "base_uri": "https://localhost:8080/",
          "height": 447
        },
        "id": "djkz8tNFauoM",
        "outputId": "c4863362-efe2-49e8-abde-98a4a769e8ee"
      },
      "outputs": [],
      "source": [
        "sns.boxplot(data['pH'])"
      ]
    },
    {
      "cell_type": "code",
      "execution_count": null,
      "metadata": {
        "id": "Qo4TRed1fCwR"
      },
      "outputs": [],
      "source": [
        "quart=data['pH'].quantile(q=[0.75,0.25]).tolist()\n",
        "q1=quart[1]\n",
        "q3=quart[0]\n",
        "Iqr=q3-q1\n",
        "min=q1-1.5*Iqr\n",
        "#print(min)\n",
        "max=q3+1.5*Iqr\n",
        "#print(max)\n",
        "data['pH']=np.where(data['pH']>max,max,data['pH'])"
      ]
    },
    {
      "cell_type": "code",
      "execution_count": null,
      "metadata": {
        "id": "O2xGzNM-i_vc"
      },
      "outputs": [],
      "source": [
        "quart=data['pH'].quantile(q=[0.75,0.25]).tolist()\n",
        "q1=quart[1]\n",
        "q3=quart[0]\n",
        "Iqr=q3-q1\n",
        "min=q1-1.5*Iqr\n",
        "#print(min)\n",
        "max=q3+1.5*Iqr\n",
        "#print(max)\n",
        "data['pH']=np.where(data['pH']<min,min,data['pH'])"
      ]
    },
    {
      "cell_type": "code",
      "execution_count": null,
      "metadata": {
        "colab": {
          "base_uri": "https://localhost:8080/",
          "height": 447
        },
        "id": "s965SkB7fCz4",
        "outputId": "62c22561-d4be-462d-f2a4-507c54713c7f"
      },
      "outputs": [],
      "source": [
        "sns.boxplot(data['pH'])"
      ]
    },
    {
      "cell_type": "code",
      "execution_count": null,
      "metadata": {
        "colab": {
          "base_uri": "https://localhost:8080/",
          "height": 447
        },
        "id": "Z57kaP0BauwB",
        "outputId": "5987c30d-2384-4e3b-d867-c8033d86c612"
      },
      "outputs": [],
      "source": [
        "sns.boxplot(data['rainfall'])"
      ]
    },
    {
      "cell_type": "code",
      "execution_count": null,
      "metadata": {
        "id": "h5yUSRZLfDrL"
      },
      "outputs": [],
      "source": [
        "quart=data['rainfall'].quantile(q=[0.75,0.25]).tolist()\n",
        "q1=quart[1]\n",
        "q3=quart[0]\n",
        "Iqr=q3-q1\n",
        "min=q1-1.5*Iqr\n",
        "#print(min)\n",
        "max=q3+1.5*Iqr\n",
        "#print(max)\n",
        "data['rainfall']=np.where(data['rainfall']>max,max,data['rainfall'])"
      ]
    },
    {
      "cell_type": "code",
      "execution_count": null,
      "metadata": {
        "colab": {
          "base_uri": "https://localhost:8080/",
          "height": 447
        },
        "id": "ajSOhiAmfDun",
        "outputId": "4e520d2b-6672-41e5-9063-c2890a603f69"
      },
      "outputs": [],
      "source": [
        "sns.boxplot(data['rainfall'])"
      ]
    },
    {
      "cell_type": "code",
      "execution_count": null,
      "metadata": {
        "colab": {
          "base_uri": "https://localhost:8080/",
          "height": 447
        },
        "id": "V8exLQAuau5D",
        "outputId": "2ec8df4d-b4c4-41e0-f503-c75795518589"
      },
      "outputs": [],
      "source": [
        "sns.boxplot(data['temperature'])"
      ]
    },
    {
      "cell_type": "code",
      "execution_count": null,
      "metadata": {
        "id": "741Njgd9fEwO"
      },
      "outputs": [],
      "source": [
        "quart=data['temperature'].quantile(q=[0.75,0.25]).tolist()\n",
        "q1=quart[1]\n",
        "q3=quart[0]\n",
        "Iqr=q3-q1\n",
        "min=q1-1.5*Iqr\n",
        "#print(min)\n",
        "max=q3+1.5*Iqr\n",
        "#print(max)\n",
        "data['temperature']=np.where(data['temperature']<min,min,data['temperature'])"
      ]
    },
    {
      "cell_type": "code",
      "execution_count": null,
      "metadata": {
        "colab": {
          "base_uri": "https://localhost:8080/",
          "height": 447
        },
        "id": "Qw6GhZNffEzm",
        "outputId": "fa0be6d0-dd0b-4342-b3ce-914079126850"
      },
      "outputs": [],
      "source": [
        "sns.boxplot(data['temperature'])"
      ]
    },
    {
      "cell_type": "code",
      "execution_count": null,
      "metadata": {
        "colab": {
          "base_uri": "https://localhost:8080/",
          "height": 447
        },
        "id": "hrEtF3lMavB7",
        "outputId": "239ad155-187f-4532-a615-b09a537a3498"
      },
      "outputs": [],
      "source": [
        "sns.boxplot(data['Area'])"
      ]
    },
    {
      "cell_type": "code",
      "execution_count": null,
      "metadata": {
        "id": "03XRJyI7fFtw"
      },
      "outputs": [],
      "source": [
        "quart=data['Area'].quantile(q=[0.75,0.25]).tolist()\n",
        "q1=quart[1]\n",
        "q3=quart[0]\n",
        "Iqr=q3-q1\n",
        "min=q1-1.5*Iqr\n",
        "#print(min)\n",
        "max=q3+1.5*Iqr\n",
        "#print(max)\n",
        "data['Area']=np.where(data['Area']>max,max,data['Area'])"
      ]
    },
    {
      "cell_type": "code",
      "execution_count": null,
      "metadata": {
        "id": "fNyny1WAjXei"
      },
      "outputs": [],
      "source": [
        "quart=data['Area'].quantile(q=[0.75,0.25]).tolist()\n",
        "q1=quart[1]\n",
        "q3=quart[0]\n",
        "Iqr=q3-q1\n",
        "min=q1-1.5*Iqr\n",
        "#print(min)\n",
        "max=q3+1.5*Iqr\n",
        "#print(max)\n",
        "data['Area']=np.where(data['Area']<min,min,data['Area'])"
      ]
    },
    {
      "cell_type": "code",
      "execution_count": null,
      "metadata": {
        "colab": {
          "base_uri": "https://localhost:8080/",
          "height": 447
        },
        "id": "voML8NFKfFxK",
        "outputId": "b75a92dc-4900-4f41-e5b6-c18fec71d217"
      },
      "outputs": [],
      "source": [
        "sns.boxplot(data['Area'])"
      ]
    },
    {
      "cell_type": "code",
      "execution_count": null,
      "metadata": {
        "colab": {
          "base_uri": "https://localhost:8080/",
          "height": 462
        },
        "id": "MbPm1A_ZavLW",
        "outputId": "f8fd701e-864d-4752-e007-7419d4172d26"
      },
      "outputs": [],
      "source": [
        "sns.boxplot(data['Production'])"
      ]
    },
    {
      "cell_type": "code",
      "execution_count": null,
      "metadata": {
        "id": "KX7s-cuNfGp4"
      },
      "outputs": [],
      "source": [
        "quart=data['Production'].quantile(q=[0.75,0.25]).tolist()\n",
        "q1=quart[1]\n",
        "q3=quart[0]\n",
        "Iqr=q3-q1\n",
        "min=q1-1.5*Iqr\n",
        "#print(min)\n",
        "max=q3+1.5*Iqr\n",
        "#print(max)\n",
        "data['Production']=np.where(data['Production']>max,max,data['Production'])"
      ]
    },
    {
      "cell_type": "code",
      "execution_count": null,
      "metadata": {
        "id": "YHpOsWNgjkjN"
      },
      "outputs": [],
      "source": [
        "quart=data['Production'].quantile(q=[0.75,0.25]).tolist()\n",
        "q1=quart[1]\n",
        "q3=quart[0]\n",
        "Iqr=q3-q1\n",
        "min=q1-1.5*Iqr\n",
        "#print(min)\n",
        "max=q3+1.5*Iqr\n",
        "#print(max)\n",
        "data['Production']=np.where(data['Production']<min,min,data['Production'])"
      ]
    },
    {
      "cell_type": "code",
      "execution_count": null,
      "metadata": {
        "colab": {
          "base_uri": "https://localhost:8080/",
          "height": 447
        },
        "id": "EuL0bDYTfGta",
        "outputId": "edaa4abd-c691-4ae5-916d-db2fabac6a03"
      },
      "outputs": [],
      "source": [
        "sns.boxplot(data['Production'])"
      ]
    },
    {
      "cell_type": "code",
      "execution_count": null,
      "metadata": {
        "colab": {
          "base_uri": "https://localhost:8080/",
          "height": 447
        },
        "id": "bK7al_A2em-K",
        "outputId": "845e2fe9-918d-49d7-8823-2e3768b98f9d"
      },
      "outputs": [],
      "source": [
        "sns.boxplot(data['Yield'])"
      ]
    },
    {
      "cell_type": "code",
      "execution_count": null,
      "metadata": {
        "id": "_eab_YK3fH_d"
      },
      "outputs": [],
      "source": [
        "quart=data['Yield'].quantile(q=[0.75,0.25]).tolist()\n",
        "q1=quart[1]\n",
        "q3=quart[0]\n",
        "Iqr=q3-q1\n",
        "min=q1-1.5*Iqr\n",
        "#print(min)\n",
        "max=q3+1.5*Iqr\n",
        "#print(max)\n",
        "data['Yield']=np.where(data['Yield']>max,max,data['Yield'])"
      ]
    },
    {
      "cell_type": "code",
      "execution_count": null,
      "metadata": {
        "id": "x08T89vAkJIH"
      },
      "outputs": [],
      "source": [
        "quart=data['Production'].quantile(q=[0.75,0.25]).tolist()\n",
        "q1=quart[1]\n",
        "q3=quart[0]\n",
        "Iqr=q3-q1\n",
        "min=q1-1.5*Iqr\n",
        "#print(min)\n",
        "max=q3+1.5*Iqr\n",
        "#print(max)\n",
        "data['Production']=np.where(data['Production']<min,min,data['Production'])"
      ]
    },
    {
      "cell_type": "code",
      "execution_count": null,
      "metadata": {
        "colab": {
          "base_uri": "https://localhost:8080/",
          "height": 447
        },
        "id": "OGUjVRmHfIC8",
        "outputId": "7f49bf47-c9c0-4084-e523-234793173f93"
      },
      "outputs": [],
      "source": [
        "sns.boxplot(data['Yield'])"
      ]
    },
    {
      "cell_type": "markdown",
      "metadata": {
        "id": "CgW5kxiEfJMD"
      },
      "source": [
        "Finding unique values for encoding"
      ]
    },
    {
      "cell_type": "code",
      "execution_count": null,
      "metadata": {
        "colab": {
          "base_uri": "https://localhost:8080/"
        },
        "id": "bbPzoT70c14D",
        "outputId": "af9d46d7-27a5-4ab7-9183-bf8ce5bf99ca"
      },
      "outputs": [],
      "source": [
        "print(data['State'].unique())\n",
        "print(data['Crop'].unique())\n",
        "print(data['Season'].unique())"
      ]
    },
    {
      "cell_type": "code",
      "execution_count": null,
      "metadata": {
        "colab": {
          "base_uri": "https://localhost:8080/"
        },
        "id": "qV-phABRc8Ir",
        "outputId": "851d6f9b-8c83-4c03-c656-d2a5e081e977"
      },
      "outputs": [],
      "source": [
        "data['State'].value_counts()"
      ]
    },
    {
      "cell_type": "code",
      "execution_count": null,
      "metadata": {
        "colab": {
          "base_uri": "https://localhost:8080/"
        },
        "id": "SPJnGUmldHSd",
        "outputId": "fe0f188d-c65b-46bc-fa6a-29eba0653efe"
      },
      "outputs": [],
      "source": [
        "data['Crop'].value_counts()"
      ]
    },
    {
      "cell_type": "code",
      "execution_count": null,
      "metadata": {
        "colab": {
          "base_uri": "https://localhost:8080/"
        },
        "id": "ASr3CNA8dIQA",
        "outputId": "7c5973d9-81ce-4b73-8def-5bb8df5e508d"
      },
      "outputs": [],
      "source": [
        "data['Season'].value_counts()"
      ]
    },
    {
      "cell_type": "markdown",
      "metadata": {
        "id": "TEjT3dr0YpZG"
      },
      "source": [
        "Label Encoding"
      ]
    },
    {
      "cell_type": "code",
      "execution_count": 145,
      "metadata": {
        "id": "dG5O7qzIS4QT"
      },
      "outputs": [],
      "source": [
        "from sklearn.preprocessing import LabelEncoder"
      ]
    },
    {
      "cell_type": "code",
      "execution_count": 146,
      "metadata": {
        "id": "xymddV9ZS-ew"
      },
      "outputs": [],
      "source": [
        "label_encoders = {}"
      ]
    },
    {
      "cell_type": "code",
      "execution_count": 147,
      "metadata": {
        "id": "VlPgNyDlTCft"
      },
      "outputs": [],
      "source": [
        "columns_to_encode = ['State', 'Crop', 'Season']"
      ]
    },
    {
      "cell_type": "code",
      "execution_count": 149,
      "metadata": {
        "id": "kyjzY5VZTfcV"
      },
      "outputs": [
        {
          "ename": "KeyError",
          "evalue": "'State'",
          "output_type": "error",
          "traceback": [
            "\u001b[1;31m---------------------------------------------------------------------------\u001b[0m",
            "\u001b[1;31mKeyError\u001b[0m                                  Traceback (most recent call last)",
            "File \u001b[1;32mc:\\Users\\rvssm\\anaconda3\\Lib\\site-packages\\pandas\\core\\indexes\\base.py:3653\u001b[0m, in \u001b[0;36mIndex.get_loc\u001b[1;34m(self, key)\u001b[0m\n\u001b[0;32m   3652\u001b[0m \u001b[38;5;28;01mtry\u001b[39;00m:\n\u001b[1;32m-> 3653\u001b[0m     \u001b[38;5;28;01mreturn\u001b[39;00m \u001b[38;5;28;43mself\u001b[39;49m\u001b[38;5;241;43m.\u001b[39;49m\u001b[43m_engine\u001b[49m\u001b[38;5;241;43m.\u001b[39;49m\u001b[43mget_loc\u001b[49m\u001b[43m(\u001b[49m\u001b[43mcasted_key\u001b[49m\u001b[43m)\u001b[49m\n\u001b[0;32m   3654\u001b[0m \u001b[38;5;28;01mexcept\u001b[39;00m \u001b[38;5;167;01mKeyError\u001b[39;00m \u001b[38;5;28;01mas\u001b[39;00m err:\n",
            "File \u001b[1;32mc:\\Users\\rvssm\\anaconda3\\Lib\\site-packages\\pandas\\_libs\\index.pyx:147\u001b[0m, in \u001b[0;36mpandas._libs.index.IndexEngine.get_loc\u001b[1;34m()\u001b[0m\n",
            "File \u001b[1;32mc:\\Users\\rvssm\\anaconda3\\Lib\\site-packages\\pandas\\_libs\\index.pyx:176\u001b[0m, in \u001b[0;36mpandas._libs.index.IndexEngine.get_loc\u001b[1;34m()\u001b[0m\n",
            "File \u001b[1;32mpandas\\_libs\\hashtable_class_helper.pxi:7080\u001b[0m, in \u001b[0;36mpandas._libs.hashtable.PyObjectHashTable.get_item\u001b[1;34m()\u001b[0m\n",
            "File \u001b[1;32mpandas\\_libs\\hashtable_class_helper.pxi:7088\u001b[0m, in \u001b[0;36mpandas._libs.hashtable.PyObjectHashTable.get_item\u001b[1;34m()\u001b[0m\n",
            "\u001b[1;31mKeyError\u001b[0m: 'State'",
            "\nThe above exception was the direct cause of the following exception:\n",
            "\u001b[1;31mKeyError\u001b[0m                                  Traceback (most recent call last)",
            "Cell \u001b[1;32mIn[149], line 3\u001b[0m\n\u001b[0;32m      1\u001b[0m \u001b[38;5;28;01mfor\u001b[39;00m column \u001b[38;5;129;01min\u001b[39;00m columns_to_encode:\n\u001b[0;32m      2\u001b[0m     label_encoder \u001b[38;5;241m=\u001b[39m LabelEncoder()\n\u001b[1;32m----> 3\u001b[0m     data[column] \u001b[38;5;241m=\u001b[39m label_encoder\u001b[38;5;241m.\u001b[39mfit_transform(\u001b[43mdata\u001b[49m\u001b[43m[\u001b[49m\u001b[43mcolumn\u001b[49m\u001b[43m]\u001b[49m)\n\u001b[0;32m      4\u001b[0m     label_encoders[column] \u001b[38;5;241m=\u001b[39m label_encoder\n",
            "File \u001b[1;32mc:\\Users\\rvssm\\anaconda3\\Lib\\site-packages\\pandas\\core\\frame.py:3761\u001b[0m, in \u001b[0;36mDataFrame.__getitem__\u001b[1;34m(self, key)\u001b[0m\n\u001b[0;32m   3759\u001b[0m \u001b[38;5;28;01mif\u001b[39;00m \u001b[38;5;28mself\u001b[39m\u001b[38;5;241m.\u001b[39mcolumns\u001b[38;5;241m.\u001b[39mnlevels \u001b[38;5;241m>\u001b[39m \u001b[38;5;241m1\u001b[39m:\n\u001b[0;32m   3760\u001b[0m     \u001b[38;5;28;01mreturn\u001b[39;00m \u001b[38;5;28mself\u001b[39m\u001b[38;5;241m.\u001b[39m_getitem_multilevel(key)\n\u001b[1;32m-> 3761\u001b[0m indexer \u001b[38;5;241m=\u001b[39m \u001b[38;5;28;43mself\u001b[39;49m\u001b[38;5;241;43m.\u001b[39;49m\u001b[43mcolumns\u001b[49m\u001b[38;5;241;43m.\u001b[39;49m\u001b[43mget_loc\u001b[49m\u001b[43m(\u001b[49m\u001b[43mkey\u001b[49m\u001b[43m)\u001b[49m\n\u001b[0;32m   3762\u001b[0m \u001b[38;5;28;01mif\u001b[39;00m is_integer(indexer):\n\u001b[0;32m   3763\u001b[0m     indexer \u001b[38;5;241m=\u001b[39m [indexer]\n",
            "File \u001b[1;32mc:\\Users\\rvssm\\anaconda3\\Lib\\site-packages\\pandas\\core\\indexes\\base.py:3655\u001b[0m, in \u001b[0;36mIndex.get_loc\u001b[1;34m(self, key)\u001b[0m\n\u001b[0;32m   3653\u001b[0m     \u001b[38;5;28;01mreturn\u001b[39;00m \u001b[38;5;28mself\u001b[39m\u001b[38;5;241m.\u001b[39m_engine\u001b[38;5;241m.\u001b[39mget_loc(casted_key)\n\u001b[0;32m   3654\u001b[0m \u001b[38;5;28;01mexcept\u001b[39;00m \u001b[38;5;167;01mKeyError\u001b[39;00m \u001b[38;5;28;01mas\u001b[39;00m err:\n\u001b[1;32m-> 3655\u001b[0m     \u001b[38;5;28;01mraise\u001b[39;00m \u001b[38;5;167;01mKeyError\u001b[39;00m(key) \u001b[38;5;28;01mfrom\u001b[39;00m \u001b[38;5;21;01merr\u001b[39;00m\n\u001b[0;32m   3656\u001b[0m \u001b[38;5;28;01mexcept\u001b[39;00m \u001b[38;5;167;01mTypeError\u001b[39;00m:\n\u001b[0;32m   3657\u001b[0m     \u001b[38;5;66;03m# If we have a listlike key, _check_indexing_error will raise\u001b[39;00m\n\u001b[0;32m   3658\u001b[0m     \u001b[38;5;66;03m#  InvalidIndexError. Otherwise we fall through and re-raise\u001b[39;00m\n\u001b[0;32m   3659\u001b[0m     \u001b[38;5;66;03m#  the TypeError.\u001b[39;00m\n\u001b[0;32m   3660\u001b[0m     \u001b[38;5;28mself\u001b[39m\u001b[38;5;241m.\u001b[39m_check_indexing_error(key)\n",
            "\u001b[1;31mKeyError\u001b[0m: 'State'"
          ]
        }
      ],
      "source": [
        "for column in columns_to_encode:\n",
        "    label_encoder = LabelEncoder()\n",
        "    data[column] = label_encoder.fit_transform(data[column])\n",
        "    label_encoders[column] = label_encoder"
      ]
    },
    {
      "cell_type": "markdown",
      "metadata": {
        "id": "_WRkEWfLY2YZ"
      },
      "source": [
        "Datatypes of data after encoding"
      ]
    },
    {
      "cell_type": "code",
      "execution_count": 144,
      "metadata": {
        "colab": {
          "base_uri": "https://localhost:8080/"
        },
        "id": "i1tD8BDPYuxX",
        "outputId": "a180d156-c297-4284-ff4d-949db83be289"
      },
      "outputs": [
        {
          "name": "stdout",
          "output_type": "stream",
          "text": [
            "                  N             P             K            pH      rainfall  \\\n",
            "count  99849.000000  99849.000000  99849.000000  99849.000000  99849.000000   \n",
            "mean      69.816823     41.593656     42.037827      5.643624    701.151085   \n",
            "std       39.571469     15.056508     28.430263      0.505283    604.701552   \n",
            "min       10.000000     10.000000     10.000000      3.820000      3.274569   \n",
            "25%       50.000000     40.000000     20.000000      5.360000    157.310000   \n",
            "50%       75.000000     40.000000     30.000000      5.540000    579.750000   \n",
            "75%       80.000000     60.000000     50.000000      5.960000   1110.780000   \n",
            "max      180.000000    125.000000    200.000000      7.000000   3322.060000   \n",
            "\n",
            "        temperature  Area_in_hectares  Production_in_tons  Yield_ton_per_hec  \n",
            "count  99849.000000      99849.000000        9.984900e+04       99849.000000  \n",
            "mean      26.684154      16476.585668        3.776291e+04           3.931149  \n",
            "std        4.851214      43604.268231        1.222447e+05          33.872242  \n",
            "min        1.180000          0.580000        0.000000e+00           0.000000  \n",
            "25%       23.106000        130.000000        1.620000e+02           0.586207  \n",
            "50%       27.333333       1010.000000        1.506000e+03           1.329268  \n",
            "75%       29.266667       8099.000000        1.439500e+04           2.997288  \n",
            "max       35.346667     726300.000000        3.530571e+06        9801.000000  \n"
          ]
        }
      ],
      "source": [
        "print(data.describe())\n",
        "\n"
      ]
    },
    {
      "cell_type": "markdown",
      "metadata": {
        "id": "t0XY6zY0Y9gf"
      },
      "source": [
        "Correlation analysis - Univariate analysis"
      ]
    },
    {
      "cell_type": "code",
      "execution_count": null,
      "metadata": {
        "colab": {
          "base_uri": "https://localhost:8080/",
          "height": 1000
        },
        "id": "EendFAOIVyJH",
        "outputId": "8cadeb6d-df1b-4ad5-96bf-553c141ca98f"
      },
      "outputs": [],
      "source": [
        "column_name = 'State'\n",
        "\n",
        "# Frequency Distribution\n",
        "frequency_distribution = data[column_name].value_counts()\n",
        "\n",
        "# Visualization - Histogram\n",
        "plt.figure(figsize=(10, 6))\n",
        "plt.hist(data[column_name], bins='auto', edgecolor='black')\n",
        "plt.title('Histogram of {}'.format(column_name))\n",
        "plt.xlabel(column_name)\n",
        "plt.ylabel('Frequency')\n",
        "plt.show()\n",
        "\n",
        "# Visualization - Box Plot\n",
        "plt.figure(figsize=(8, 5))\n",
        "plt.boxplot(data[column_name], vert=False)\n",
        "plt.title('Box Plot of {}'.format(column_name))\n",
        "plt.show()"
      ]
    },
    {
      "cell_type": "code",
      "execution_count": null,
      "metadata": {
        "colab": {
          "base_uri": "https://localhost:8080/",
          "height": 1000
        },
        "id": "LutHNr3MVyL4",
        "outputId": "c2661b3b-d81c-4e97-be4b-e7c858d26391"
      },
      "outputs": [],
      "source": [
        "column_name = 'Crop'\n",
        "\n",
        "# Frequency Distribution\n",
        "frequency_distribution = data[column_name].value_counts()\n",
        "\n",
        "# Visualization - Histogram\n",
        "plt.figure(figsize=(10, 6))\n",
        "plt.hist(data[column_name], bins='auto', edgecolor='black')\n",
        "plt.title('Histogram of {}'.format(column_name))\n",
        "plt.xlabel(column_name)\n",
        "plt.ylabel('Frequency')\n",
        "plt.show()\n",
        "\n",
        "# Visualization - Box Plot\n",
        "plt.figure(figsize=(8, 5))\n",
        "plt.boxplot(data[column_name], vert=False)\n",
        "plt.title('Box Plot of {}'.format(column_name))\n",
        "plt.show()"
      ]
    },
    {
      "cell_type": "code",
      "execution_count": null,
      "metadata": {
        "colab": {
          "base_uri": "https://localhost:8080/",
          "height": 1000
        },
        "id": "0sOzUx0VVyOh",
        "outputId": "26fd5b5a-23e0-4c2f-9448-1dbf2ff11cae"
      },
      "outputs": [],
      "source": [
        "column_name = 'Season'\n",
        "\n",
        "# Frequency Distribution\n",
        "frequency_distribution = data[column_name].value_counts()\n",
        "\n",
        "# Visualization - Histogram\n",
        "plt.figure(figsize=(10, 6))\n",
        "plt.hist(data[column_name], bins='auto', edgecolor='black')\n",
        "plt.title('Histogram of {}'.format(column_name))\n",
        "plt.xlabel(column_name)\n",
        "plt.ylabel('Frequency')\n",
        "plt.show()\n",
        "\n",
        "# Visualization - Box Plot\n",
        "plt.figure(figsize=(8, 5))\n",
        "plt.boxplot(data[column_name], vert=False)\n",
        "plt.title('Box Plot of {}'.format(column_name))\n",
        "plt.show()"
      ]
    },
    {
      "cell_type": "code",
      "execution_count": null,
      "metadata": {
        "colab": {
          "base_uri": "https://localhost:8080/",
          "height": 1000
        },
        "id": "1bE3n6O8VyRL",
        "outputId": "e4e4ec5e-1245-48f2-b59e-e1f37885f328"
      },
      "outputs": [],
      "source": [
        "column_name = 'N'\n",
        "\n",
        "# Descriptive Statistics\n",
        "mean_value = data[column_name].mean()\n",
        "median_value = data[column_name].median()\n",
        "std_dev = data[column_name].std()\n",
        "\n",
        "# Frequency Distribution\n",
        "frequency_distribution = data[column_name].value_counts()\n",
        "\n",
        "# Visualization - Histogram\n",
        "plt.figure(figsize=(10, 6))\n",
        "plt.hist(data[column_name], bins='auto', edgecolor='black')\n",
        "plt.title('Histogram of {}'.format(column_name))\n",
        "plt.xlabel(column_name)\n",
        "plt.ylabel('Frequency')\n",
        "plt.show()\n",
        "\n",
        "# Visualization - Box Plot\n",
        "plt.figure(figsize=(8, 5))\n",
        "plt.boxplot(data[column_name], vert=False)\n",
        "plt.title('Box Plot of {}'.format(column_name))\n",
        "plt.show()\n",
        "\n",
        "# Measures of Shape\n",
        "skewness = data[column_name].skew()\n",
        "kurtosis = data[column_name].kurtosis()\n",
        "\n",
        "# Display Summary Statistics\n",
        "print(\"Mean:\", mean_value)\n",
        "print(\"Median:\", median_value)\n",
        "print(\"Standard Deviation:\", std_dev)\n",
        "print(\"\\nFrequency Distribution:\\n\", frequency_distribution)\n",
        "print(\"\\nSkewness:\", skewness)\n",
        "print(\"Kurtosis:\", kurtosis)"
      ]
    },
    {
      "cell_type": "code",
      "execution_count": null,
      "metadata": {
        "colab": {
          "base_uri": "https://localhost:8080/",
          "height": 1000
        },
        "id": "SpGDJrEpVyTz",
        "outputId": "c89a6ddd-1099-4608-d177-2205156faef9"
      },
      "outputs": [],
      "source": [
        "column_name = 'P'\n",
        "\n",
        "# Descriptive Statistics\n",
        "mean_value = data[column_name].mean()\n",
        "median_value = data[column_name].median()\n",
        "std_dev = data[column_name].std()\n",
        "\n",
        "# Frequency Distribution\n",
        "frequency_distribution = data[column_name].value_counts()\n",
        "\n",
        "# Visualization - Histogram\n",
        "plt.figure(figsize=(10, 6))\n",
        "plt.hist(data[column_name], bins='auto', edgecolor='black')\n",
        "plt.title('Histogram of {}'.format(column_name))\n",
        "plt.xlabel(column_name)\n",
        "plt.ylabel('Frequency')\n",
        "plt.show()\n",
        "\n",
        "# Visualization - Box Plot\n",
        "plt.figure(figsize=(8, 5))\n",
        "plt.boxplot(data[column_name], vert=False)\n",
        "plt.title('Box Plot of {}'.format(column_name))\n",
        "plt.show()\n",
        "\n",
        "# Measures of Shape\n",
        "skewness = data[column_name].skew()\n",
        "kurtosis = data[column_name].kurtosis()\n",
        "\n",
        "# Display Summary Statistics\n",
        "print(\"Mean:\", mean_value)\n",
        "print(\"Median:\", median_value)\n",
        "print(\"Standard Deviation:\", std_dev)\n",
        "print(\"\\nFrequency Distribution:\\n\", frequency_distribution)\n",
        "print(\"\\nSkewness:\", skewness)\n",
        "print(\"Kurtosis:\", kurtosis)"
      ]
    },
    {
      "cell_type": "code",
      "execution_count": null,
      "metadata": {
        "colab": {
          "base_uri": "https://localhost:8080/",
          "height": 1000
        },
        "id": "RAtZ8VrCVyWe",
        "outputId": "e3eca9e7-d9c7-4864-82ea-dead80d9d686"
      },
      "outputs": [],
      "source": [
        "column_name = 'K'\n",
        "\n",
        "# Descriptive Statistics\n",
        "mean_value = data[column_name].mean()\n",
        "median_value = data[column_name].median()\n",
        "std_dev = data[column_name].std()\n",
        "\n",
        "# Frequency Distribution\n",
        "frequency_distribution = data[column_name].value_counts()\n",
        "\n",
        "# Visualization - Histogram\n",
        "plt.figure(figsize=(10, 6))\n",
        "plt.hist(data[column_name], bins='auto', edgecolor='black')\n",
        "plt.title('Histogram of {}'.format(column_name))\n",
        "plt.xlabel(column_name)\n",
        "plt.ylabel('Frequency')\n",
        "plt.show()\n",
        "\n",
        "# Visualization - Box Plot\n",
        "plt.figure(figsize=(8, 5))\n",
        "plt.boxplot(data[column_name], vert=False)\n",
        "plt.title('Box Plot of {}'.format(column_name))\n",
        "plt.show()\n",
        "\n",
        "# Measures of Shape\n",
        "skewness = data[column_name].skew()\n",
        "kurtosis = data[column_name].kurtosis()\n",
        "\n",
        "# Display Summary Statistics\n",
        "print(\"Mean:\", mean_value)\n",
        "print(\"Median:\", median_value)\n",
        "print(\"Standard Deviation:\", std_dev)\n",
        "print(\"\\nFrequency Distribution:\\n\", frequency_distribution)\n",
        "print(\"\\nSkewness:\", skewness)\n",
        "print(\"Kurtosis:\", kurtosis)"
      ]
    },
    {
      "cell_type": "code",
      "execution_count": null,
      "metadata": {
        "colab": {
          "base_uri": "https://localhost:8080/",
          "height": 1000
        },
        "id": "yPiEg9uGVyZL",
        "outputId": "e1ef9131-dcd9-4b53-c470-39113ebfc9f4"
      },
      "outputs": [],
      "source": [
        "column_name = 'pH'\n",
        "\n",
        "# Descriptive Statistics\n",
        "mean_value = data[column_name].mean()\n",
        "median_value = data[column_name].median()\n",
        "std_dev = data[column_name].std()\n",
        "\n",
        "# Frequency Distribution\n",
        "frequency_distribution = data[column_name].value_counts()\n",
        "\n",
        "# Visualization - Histogram\n",
        "plt.figure(figsize=(10, 6))\n",
        "plt.hist(data[column_name], bins='auto', edgecolor='black')\n",
        "plt.title('Histogram of {}'.format(column_name))\n",
        "plt.xlabel(column_name)\n",
        "plt.ylabel('Frequency')\n",
        "plt.show()\n",
        "\n",
        "# Visualization - Box Plot\n",
        "plt.figure(figsize=(8, 5))\n",
        "plt.boxplot(data[column_name], vert=False)\n",
        "plt.title('Box Plot of {}'.format(column_name))\n",
        "plt.show()\n",
        "\n",
        "# Measures of Shape\n",
        "skewness = data[column_name].skew()\n",
        "kurtosis = data[column_name].kurtosis()\n",
        "\n",
        "# Display Summary Statistics\n",
        "print(\"Mean:\", mean_value)\n",
        "print(\"Median:\", median_value)\n",
        "print(\"Standard Deviation:\", std_dev)\n",
        "print(\"\\nFrequency Distribution:\\n\", frequency_distribution)\n",
        "print(\"\\nSkewness:\", skewness)\n",
        "print(\"Kurtosis:\", kurtosis)"
      ]
    },
    {
      "cell_type": "code",
      "execution_count": null,
      "metadata": {
        "colab": {
          "base_uri": "https://localhost:8080/",
          "height": 1000
        },
        "id": "9hV1i0CdVyb2",
        "outputId": "5a797a59-567b-4560-e38e-d1a3c51913e3"
      },
      "outputs": [],
      "source": [
        "column_name = 'temperature'\n",
        "\n",
        "# Descriptive Statistics\n",
        "mean_value = data[column_name].mean()\n",
        "median_value = data[column_name].median()\n",
        "std_dev = data[column_name].std()\n",
        "\n",
        "# Frequency Distribution\n",
        "frequency_distribution = data[column_name].value_counts()\n",
        "\n",
        "# Visualization - Histogram\n",
        "plt.figure(figsize=(10, 6))\n",
        "plt.hist(data[column_name], bins='auto', edgecolor='black')\n",
        "plt.title('Histogram of {}'.format(column_name))\n",
        "plt.xlabel(column_name)\n",
        "plt.ylabel('Frequency')\n",
        "plt.show()\n",
        "\n",
        "# Visualization - Box Plot\n",
        "plt.figure(figsize=(8, 5))\n",
        "plt.boxplot(data[column_name], vert=False)\n",
        "plt.title('Box Plot of {}'.format(column_name))\n",
        "plt.show()\n",
        "\n",
        "# Measures of Shape\n",
        "skewness = data[column_name].skew()\n",
        "kurtosis = data[column_name].kurtosis()\n",
        "\n",
        "# Display Summary Statistics\n",
        "print(\"Mean:\", mean_value)\n",
        "print(\"Median:\", median_value)\n",
        "print(\"Standard Deviation:\", std_dev)\n",
        "print(\"\\nFrequency Distribution:\\n\", frequency_distribution)\n",
        "print(\"\\nSkewness:\", skewness)\n",
        "print(\"Kurtosis:\", kurtosis)"
      ]
    },
    {
      "cell_type": "code",
      "execution_count": null,
      "metadata": {
        "colab": {
          "base_uri": "https://localhost:8080/",
          "height": 1000
        },
        "id": "AkFPGhiHVyeO",
        "outputId": "b5e50206-c80f-4304-bb8a-8a05e58fff98"
      },
      "outputs": [],
      "source": [
        "column_name = 'rainfall'\n",
        "\n",
        "# Descriptive Statistics\n",
        "mean_value = data[column_name].mean()\n",
        "median_value = data[column_name].median()\n",
        "std_dev = data[column_name].std()\n",
        "\n",
        "# Frequency Distribution\n",
        "frequency_distribution = data[column_name].value_counts()\n",
        "\n",
        "# Visualization - Histogram\n",
        "plt.figure(figsize=(10, 6))\n",
        "plt.hist(data[column_name], bins='auto', edgecolor='black')\n",
        "plt.title('Histogram of {}'.format(column_name))\n",
        "plt.xlabel(column_name)\n",
        "plt.ylabel('Frequency')\n",
        "plt.show()\n",
        "\n",
        "# Visualization - Box Plot\n",
        "plt.figure(figsize=(8, 5))\n",
        "plt.boxplot(data[column_name], vert=False)\n",
        "plt.title('Box Plot of {}'.format(column_name))\n",
        "plt.show()\n",
        "\n",
        "# Measures of Shape\n",
        "skewness = data[column_name].skew()\n",
        "kurtosis = data[column_name].kurtosis()\n",
        "\n",
        "# Display Summary Statistics\n",
        "print(\"Mean:\", mean_value)\n",
        "print(\"Median:\", median_value)\n",
        "print(\"Standard Deviation:\", std_dev)\n",
        "print(\"\\nFrequency Distribution:\\n\", frequency_distribution)\n",
        "print(\"\\nSkewness:\", skewness)\n",
        "print(\"Kurtosis:\", kurtosis)"
      ]
    },
    {
      "cell_type": "code",
      "execution_count": null,
      "metadata": {
        "colab": {
          "base_uri": "https://localhost:8080/",
          "height": 1000
        },
        "id": "gN1_gGymVyg6",
        "outputId": "ff1e9e5c-169a-4205-9096-8a4623581c82"
      },
      "outputs": [],
      "source": [
        "column_name = 'Area'\n",
        "\n",
        "# Descriptive Statistics\n",
        "mean_value = data[column_name].mean()\n",
        "median_value = data[column_name].median()\n",
        "std_dev = data[column_name].std()\n",
        "\n",
        "# Frequency Distribution\n",
        "frequency_distribution = data[column_name].value_counts()\n",
        "\n",
        "# Visualization - Histogram\n",
        "plt.figure(figsize=(10, 6))\n",
        "plt.hist(data[column_name], bins='auto', edgecolor='black')\n",
        "plt.title('Histogram of {}'.format(column_name))\n",
        "plt.xlabel(column_name)\n",
        "plt.ylabel('Frequency')\n",
        "plt.show()\n",
        "\n",
        "# Visualization - Box Plot\n",
        "plt.figure(figsize=(8, 5))\n",
        "plt.boxplot(data[column_name], vert=False)\n",
        "plt.title('Box Plot of {}'.format(column_name))\n",
        "plt.show()\n",
        "\n",
        "# Measures of Shape\n",
        "skewness = data[column_name].skew()\n",
        "kurtosis = data[column_name].kurtosis()\n",
        "\n",
        "# Display Summary Statistics\n",
        "print(\"Mean:\", mean_value)\n",
        "print(\"Median:\", median_value)\n",
        "print(\"Standard Deviation:\", std_dev)\n",
        "print(\"\\nFrequency Distribution:\\n\", frequency_distribution)\n",
        "print(\"\\nSkewness:\", skewness)\n",
        "print(\"Kurtosis:\", kurtosis)"
      ]
    },
    {
      "cell_type": "code",
      "execution_count": null,
      "metadata": {
        "colab": {
          "base_uri": "https://localhost:8080/",
          "height": 1000
        },
        "id": "nri6gh2LVyjs",
        "outputId": "18f61dd9-498f-4855-cffc-527cf9edb452"
      },
      "outputs": [],
      "source": [
        "column_name = 'Production'\n",
        "\n",
        "# Descriptive Statistics\n",
        "mean_value = data[column_name].mean()\n",
        "median_value = data[column_name].median()\n",
        "std_dev = data[column_name].std()\n",
        "\n",
        "# Frequency Distribution\n",
        "frequency_distribution = data[column_name].value_counts()\n",
        "\n",
        "# Visualization - Histogram\n",
        "plt.figure(figsize=(10, 6))\n",
        "plt.hist(data[column_name], bins='auto', edgecolor='black')\n",
        "plt.title('Histogram of {}'.format(column_name))\n",
        "plt.xlabel(column_name)\n",
        "plt.ylabel('Frequency')\n",
        "plt.show()\n",
        "\n",
        "# Visualization - Box Plot\n",
        "plt.figure(figsize=(8, 5))\n",
        "plt.boxplot(data[column_name], vert=False)\n",
        "plt.title('Box Plot of {}'.format(column_name))\n",
        "plt.show()\n",
        "\n",
        "# Measures of Shape\n",
        "skewness = data[column_name].skew()\n",
        "kurtosis = data[column_name].kurtosis()\n",
        "\n",
        "# Display Summary Statistics\n",
        "print(\"Mean:\", mean_value)\n",
        "print(\"Median:\", median_value)\n",
        "print(\"Standard Deviation:\", std_dev)\n",
        "print(\"\\nFrequency Distribution:\\n\", frequency_distribution)\n",
        "print(\"\\nSkewness:\", skewness)\n",
        "print(\"Kurtosis:\", kurtosis)"
      ]
    },
    {
      "cell_type": "code",
      "execution_count": null,
      "metadata": {
        "colab": {
          "base_uri": "https://localhost:8080/",
          "height": 1000
        },
        "id": "dBHmFT4nVymD",
        "outputId": "40b520cc-2d30-449c-aeb0-1ac996bc663c"
      },
      "outputs": [],
      "source": [
        "column_name = 'Yield'\n",
        "\n",
        "# Descriptive Statistics\n",
        "mean_value = data[column_name].mean()\n",
        "median_value = data[column_name].median()\n",
        "std_dev = data[column_name].std()\n",
        "\n",
        "# Frequency Distribution\n",
        "frequency_distribution = data[column_name].value_counts()\n",
        "\n",
        "# Visualization - Histogram\n",
        "plt.figure(figsize=(10, 6))\n",
        "plt.hist(data[column_name], bins='auto', edgecolor='black')\n",
        "plt.title('Histogram of {}'.format(column_name))\n",
        "plt.xlabel(column_name)\n",
        "plt.ylabel('Frequency')\n",
        "plt.show()\n",
        "\n",
        "# Visualization - Box Plot\n",
        "plt.figure(figsize=(8, 5))\n",
        "plt.boxplot(data[column_name], vert=False)\n",
        "plt.title('Box Plot of {}'.format(column_name))\n",
        "plt.show()\n",
        "\n",
        "# Measures of Shape\n",
        "skewness = data[column_name].skew()\n",
        "kurtosis = data[column_name].kurtosis()\n",
        "\n",
        "# Display Summary Statistics\n",
        "print(\"Mean:\", mean_value)\n",
        "print(\"Median:\", median_value)\n",
        "print(\"Standard Deviation:\", std_dev)\n",
        "print(\"\\nFrequency Distribution:\\n\", frequency_distribution)\n",
        "print(\"\\nSkewness:\", skewness)\n",
        "print(\"Kurtosis:\", kurtosis)"
      ]
    },
    {
      "cell_type": "markdown",
      "metadata": {
        "id": "SjttqV03bEmk"
      },
      "source": [
        "Bivariate Analysis"
      ]
    },
    {
      "cell_type": "code",
      "execution_count": null,
      "metadata": {
        "colab": {
          "base_uri": "https://localhost:8080/",
          "height": 1000
        },
        "id": "4HlCQA3kVyot",
        "outputId": "fd544e73-94f2-4a06-aa6f-1aef4462c452"
      },
      "outputs": [],
      "source": [
        "variable1 = 'State'\n",
        "variable2 = 'Crop'\n",
        "\n",
        "# Scatter Plot\n",
        "plt.figure(figsize=(10, 6))\n",
        "plt.scatter(data[variable1], data[variable2])\n",
        "plt.title('Scatter Plot of {} vs {}'.format(variable1, variable2))\n",
        "plt.xlabel(variable1)\n",
        "plt.ylabel(variable2)\n",
        "plt.show()\n",
        "\n",
        "# Pair Plot (for multiple variables)\n",
        "sns.pairplot(data[[variable1, variable2]])  # Add more variables if needed\n",
        "plt.suptitle('Pair Plot of {} and {}'.format(variable1, variable2), y=1.02)\n",
        "plt.show()\n",
        "\n",
        "# Correlation Heatmap\n",
        "correlation_matrix = data[[variable1, variable2]].corr()\n",
        "plt.figure(figsize=(8, 6))\n",
        "sns.heatmap(correlation_matrix, annot=True, cmap='coolwarm', fmt=\".2f\")\n",
        "plt.title('Correlation Heatmap of {} and {}'.format(variable1, variable2))\n",
        "plt.show()\n",
        "\n",
        "# Joint Plot with Regression Line\n",
        "sns.jointplot(x=variable1, y=variable2, data=data, kind='reg')\n",
        "plt.suptitle('Joint Plot with Regression Line of {} and {}'.format(variable1, variable2), y=1.02)\n",
        "plt.show()"
      ]
    },
    {
      "cell_type": "code",
      "execution_count": null,
      "metadata": {
        "colab": {
          "base_uri": "https://localhost:8080/",
          "height": 1000
        },
        "id": "InjHDphlVyrR",
        "outputId": "64f72d41-c141-471a-ffa8-e5eeed2126b6"
      },
      "outputs": [],
      "source": [
        "variable1 = 'Season'\n",
        "variable2 = 'Crop'\n",
        "\n",
        "# Scatter Plot\n",
        "plt.figure(figsize=(10, 6))\n",
        "plt.scatter(data[variable1], data[variable2])\n",
        "plt.title('Scatter Plot of {} vs {}'.format(variable1, variable2))\n",
        "plt.xlabel(variable1)\n",
        "plt.ylabel(variable2)\n",
        "plt.show()\n",
        "\n",
        "# Pair Plot (for multiple variables)\n",
        "sns.pairplot(data[[variable1, variable2]])  # Add more variables if needed\n",
        "plt.suptitle('Pair Plot of {} and {}'.format(variable1, variable2), y=1.02)\n",
        "plt.show()\n",
        "\n",
        "# Correlation Heatmap\n",
        "correlation_matrix = data[[variable1, variable2]].corr()\n",
        "plt.figure(figsize=(8, 6))\n",
        "sns.heatmap(correlation_matrix, annot=True, cmap='coolwarm', fmt=\".2f\")\n",
        "plt.title('Correlation Heatmap of {} and {}'.format(variable1, variable2))\n",
        "plt.show()\n",
        "\n",
        "# Joint Plot with Regression Line\n",
        "sns.jointplot(x=variable1, y=variable2, data=data, kind='reg')\n",
        "plt.suptitle('Joint Plot with Regression Line of {} and {}'.format(variable1, variable2), y=1.02)\n",
        "plt.show()"
      ]
    },
    {
      "cell_type": "code",
      "execution_count": null,
      "metadata": {
        "colab": {
          "base_uri": "https://localhost:8080/",
          "height": 1000
        },
        "id": "Dl0CiLHIVyuJ",
        "outputId": "39195174-013e-476f-d226-c100f178b2c0"
      },
      "outputs": [],
      "source": [
        "variable1 = 'N'\n",
        "variable2 = 'Crop'\n",
        "\n",
        "# Scatter Plot\n",
        "plt.figure(figsize=(10, 6))\n",
        "plt.scatter(data[variable1], data[variable2])\n",
        "plt.title('Scatter Plot of {} vs {}'.format(variable1, variable2))\n",
        "plt.xlabel(variable1)\n",
        "plt.ylabel(variable2)\n",
        "plt.show()\n",
        "\n",
        "# Pair Plot (for multiple variables)\n",
        "sns.pairplot(data[[variable1, variable2]])  # Add more variables if needed\n",
        "plt.suptitle('Pair Plot of {} and {}'.format(variable1, variable2), y=1.02)\n",
        "plt.show()\n",
        "\n",
        "# Correlation Heatmap\n",
        "correlation_matrix = data[[variable1, variable2]].corr()\n",
        "plt.figure(figsize=(8, 6))\n",
        "sns.heatmap(correlation_matrix, annot=True, cmap='coolwarm', fmt=\".2f\")\n",
        "plt.title('Correlation Heatmap of {} and {}'.format(variable1, variable2))\n",
        "plt.show()\n",
        "\n",
        "# Joint Plot with Regression Line\n",
        "sns.jointplot(x=variable1, y=variable2, data=data, kind='reg')\n",
        "plt.suptitle('Joint Plot with Regression Line of {} and {}'.format(variable1, variable2), y=1.02)\n",
        "plt.show()"
      ]
    },
    {
      "cell_type": "code",
      "execution_count": null,
      "metadata": {
        "colab": {
          "base_uri": "https://localhost:8080/",
          "height": 1000
        },
        "id": "01OigvZSVywu",
        "outputId": "9601a51f-8aaa-476b-976d-619ba27a42f5"
      },
      "outputs": [],
      "source": [
        "variable1 = 'P'\n",
        "variable2 = 'Crop'\n",
        "\n",
        "# Scatter Plot\n",
        "plt.figure(figsize=(10, 6))\n",
        "plt.scatter(data[variable1], data[variable2])\n",
        "plt.title('Scatter Plot of {} vs {}'.format(variable1, variable2))\n",
        "plt.xlabel(variable1)\n",
        "plt.ylabel(variable2)\n",
        "plt.show()\n",
        "\n",
        "# Pair Plot (for multiple variables)\n",
        "sns.pairplot(data[[variable1, variable2]])  # Add more variables if needed\n",
        "plt.suptitle('Pair Plot of {} and {}'.format(variable1, variable2), y=1.02)\n",
        "plt.show()\n",
        "\n",
        "# Correlation Heatmap\n",
        "correlation_matrix = data[[variable1, variable2]].corr()\n",
        "plt.figure(figsize=(8, 6))\n",
        "sns.heatmap(correlation_matrix, annot=True, cmap='coolwarm', fmt=\".2f\")\n",
        "plt.title('Correlation Heatmap of {} and {}'.format(variable1, variable2))\n",
        "plt.show()\n",
        "\n",
        "# Joint Plot with Regression Line\n",
        "sns.jointplot(x=variable1, y=variable2, data=data, kind='reg')\n",
        "plt.suptitle('Joint Plot with Regression Line of {} and {}'.format(variable1, variable2), y=1.02)\n",
        "plt.show()"
      ]
    },
    {
      "cell_type": "code",
      "execution_count": null,
      "metadata": {
        "colab": {
          "base_uri": "https://localhost:8080/",
          "height": 1000
        },
        "id": "XWvDvE-6VyzW",
        "outputId": "4c82f2ec-7ab6-4d81-9d48-abf3d3c8377b"
      },
      "outputs": [],
      "source": [
        "variable1 = 'K'\n",
        "variable2 = 'Crop'\n",
        "\n",
        "# Scatter Plot\n",
        "plt.figure(figsize=(10, 6))\n",
        "plt.scatter(data[variable1], data[variable2])\n",
        "plt.title('Scatter Plot of {} vs {}'.format(variable1, variable2))\n",
        "plt.xlabel(variable1)\n",
        "plt.ylabel(variable2)\n",
        "plt.show()\n",
        "\n",
        "# Pair Plot (for multiple variables)\n",
        "sns.pairplot(data[[variable1, variable2]])  # Add more variables if needed\n",
        "plt.suptitle('Pair Plot of {} and {}'.format(variable1, variable2), y=1.02)\n",
        "plt.show()\n",
        "\n",
        "# Correlation Heatmap\n",
        "correlation_matrix = data[[variable1, variable2]].corr()\n",
        "plt.figure(figsize=(8, 6))\n",
        "sns.heatmap(correlation_matrix, annot=True, cmap='coolwarm', fmt=\".2f\")\n",
        "plt.title('Correlation Heatmap of {} and {}'.format(variable1, variable2))\n",
        "plt.show()\n",
        "\n",
        "# Joint Plot with Regression Line\n",
        "sns.jointplot(x=variable1, y=variable2, data=data, kind='reg')\n",
        "plt.suptitle('Joint Plot with Regression Line of {} and {}'.format(variable1, variable2), y=1.02)\n",
        "plt.show()"
      ]
    },
    {
      "cell_type": "code",
      "execution_count": null,
      "metadata": {
        "colab": {
          "base_uri": "https://localhost:8080/",
          "height": 1000
        },
        "id": "YCd_9HTwVy16",
        "outputId": "f2293c58-3172-4015-bb54-da58706ec1b2"
      },
      "outputs": [],
      "source": [
        "variable1 = 'pH'\n",
        "variable2 = 'Crop'\n",
        "\n",
        "# Scatter Plot\n",
        "plt.figure(figsize=(10, 6))\n",
        "plt.scatter(data[variable1], data[variable2])\n",
        "plt.title('Scatter Plot of {} vs {}'.format(variable1, variable2))\n",
        "plt.xlabel(variable1)\n",
        "plt.ylabel(variable2)\n",
        "plt.show()\n",
        "\n",
        "# Pair Plot (for multiple variables)\n",
        "sns.pairplot(data[[variable1, variable2]])  # Add more variables if needed\n",
        "plt.suptitle('Pair Plot of {} and {}'.format(variable1, variable2), y=1.02)\n",
        "plt.show()\n",
        "\n",
        "# Correlation Heatmap\n",
        "correlation_matrix = data[[variable1, variable2]].corr()\n",
        "plt.figure(figsize=(8, 6))\n",
        "sns.heatmap(correlation_matrix, annot=True, cmap='coolwarm', fmt=\".2f\")\n",
        "plt.title('Correlation Heatmap of {} and {}'.format(variable1, variable2))\n",
        "plt.show()\n",
        "\n",
        "# Joint Plot with Regression Line\n",
        "sns.jointplot(x=variable1, y=variable2, data=data, kind='reg')\n",
        "plt.suptitle('Joint Plot with Regression Line of {} and {}'.format(variable1, variable2), y=1.02)\n",
        "plt.show()"
      ]
    },
    {
      "cell_type": "code",
      "execution_count": null,
      "metadata": {
        "colab": {
          "base_uri": "https://localhost:8080/",
          "height": 1000
        },
        "id": "pDaIo5HBVy4m",
        "outputId": "68772491-3e3b-4a8b-c50f-862792643544"
      },
      "outputs": [],
      "source": [
        "variable1 = 'rainfall'\n",
        "variable2 = 'Crop'\n",
        "\n",
        "# Scatter Plot\n",
        "plt.figure(figsize=(10, 6))\n",
        "plt.scatter(data[variable1], data[variable2])\n",
        "plt.title('Scatter Plot of {} vs {}'.format(variable1, variable2))\n",
        "plt.xlabel(variable1)\n",
        "plt.ylabel(variable2)\n",
        "plt.show()\n",
        "\n",
        "# Pair Plot (for multiple variables)\n",
        "sns.pairplot(data[[variable1, variable2]])  # Add more variables if needed\n",
        "plt.suptitle('Pair Plot of {} and {}'.format(variable1, variable2), y=1.02)\n",
        "plt.show()\n",
        "\n",
        "# Correlation Heatmap\n",
        "correlation_matrix = data[[variable1, variable2]].corr()\n",
        "plt.figure(figsize=(8, 6))\n",
        "sns.heatmap(correlation_matrix, annot=True, cmap='coolwarm', fmt=\".2f\")\n",
        "plt.title('Correlation Heatmap of {} and {}'.format(variable1, variable2))\n",
        "plt.show()\n",
        "\n",
        "# Joint Plot with Regression Line\n",
        "sns.jointplot(x=variable1, y=variable2, data=data, kind='reg')\n",
        "plt.suptitle('Joint Plot with Regression Line of {} and {}'.format(variable1, variable2), y=1.02)\n",
        "plt.show()"
      ]
    },
    {
      "cell_type": "code",
      "execution_count": null,
      "metadata": {
        "colab": {
          "base_uri": "https://localhost:8080/",
          "height": 1000
        },
        "id": "IDIFypFJVy7Z",
        "outputId": "e9f5c9ba-5773-4107-dca7-1f04672aebec"
      },
      "outputs": [],
      "source": [
        "variable1 = 'temperature'\n",
        "variable2 = 'Crop'\n",
        "\n",
        "# Scatter Plot\n",
        "plt.figure(figsize=(10, 6))\n",
        "plt.scatter(data[variable1], data[variable2])\n",
        "plt.title('Scatter Plot of {} vs {}'.format(variable1, variable2))\n",
        "plt.xlabel(variable1)\n",
        "plt.ylabel(variable2)\n",
        "plt.show()\n",
        "\n",
        "# Pair Plot (for multiple variables)\n",
        "sns.pairplot(data[[variable1, variable2]])  # Add more variables if needed\n",
        "plt.suptitle('Pair Plot of {} and {}'.format(variable1, variable2), y=1.02)\n",
        "plt.show()\n",
        "\n",
        "# Correlation Heatmap\n",
        "correlation_matrix = data[[variable1, variable2]].corr()\n",
        "plt.figure(figsize=(8, 6))\n",
        "sns.heatmap(correlation_matrix, annot=True, cmap='coolwarm', fmt=\".2f\")\n",
        "plt.title('Correlation Heatmap of {} and {}'.format(variable1, variable2))\n",
        "plt.show()\n",
        "\n",
        "# Joint Plot with Regression Line\n",
        "sns.jointplot(x=variable1, y=variable2, data=data, kind='reg')\n",
        "plt.suptitle('Joint Plot with Regression Line of {} and {}'.format(variable1, variable2), y=1.02)\n",
        "plt.show()"
      ]
    },
    {
      "cell_type": "code",
      "execution_count": null,
      "metadata": {
        "colab": {
          "base_uri": "https://localhost:8080/",
          "height": 1000
        },
        "id": "ujNQkRinVy-P",
        "outputId": "4824b45e-0e51-46c8-d823-a37f699d8951"
      },
      "outputs": [],
      "source": [
        "\n",
        "variable1 = 'Area'\n",
        "variable2 = 'Crop'\n",
        "\n",
        "# Scatter Plot\n",
        "plt.figure(figsize=(10, 6))\n",
        "plt.scatter(data[variable1], data[variable2])\n",
        "plt.title('Scatter Plot of {} vs {}'.format(variable1, variable2))\n",
        "plt.xlabel(variable1)\n",
        "plt.ylabel(variable2)\n",
        "plt.show()\n",
        "\n",
        "# Pair Plot (for multiple variables)\n",
        "sns.pairplot(data[[variable1, variable2]])  # Add more variables if needed\n",
        "plt.suptitle('Pair Plot of {} and {}'.format(variable1, variable2), y=1.02)\n",
        "plt.show()\n",
        "\n",
        "# Correlation Heatmap\n",
        "correlation_matrix = data[[variable1, variable2]].corr()\n",
        "plt.figure(figsize=(8, 6))\n",
        "sns.heatmap(correlation_matrix, annot=True, cmap='coolwarm', fmt=\".2f\")\n",
        "plt.title('Correlation Heatmap of {} and {}'.format(variable1, variable2))\n",
        "plt.show()\n",
        "\n",
        "# Joint Plot with Regression Line\n",
        "sns.jointplot(x=variable1, y=variable2, data=data, kind='reg')\n",
        "plt.suptitle('Joint Plot with Regression Line of {} and {}'.format(variable1, variable2), y=1.02)\n",
        "plt.show()"
      ]
    },
    {
      "cell_type": "code",
      "execution_count": null,
      "metadata": {
        "colab": {
          "base_uri": "https://localhost:8080/",
          "height": 1000
        },
        "id": "V6lsERRBVzBI",
        "outputId": "84f3c0c5-847b-4a7a-d51f-150923c86682"
      },
      "outputs": [],
      "source": [
        "variable1 = 'Production'\n",
        "variable2 = 'Crop'\n",
        "\n",
        "# Scatter Plot\n",
        "plt.figure(figsize=(10, 6))\n",
        "plt.scatter(data[variable1], data[variable2])\n",
        "plt.title('Scatter Plot of {} vs {}'.format(variable1, variable2))\n",
        "plt.xlabel(variable1)\n",
        "plt.ylabel(variable2)\n",
        "plt.show()\n",
        "\n",
        "# Pair Plot (for multiple variables)\n",
        "sns.pairplot(data[[variable1, variable2]])  # Add more variables if needed\n",
        "plt.suptitle('Pair Plot of {} and {}'.format(variable1, variable2), y=1.02)\n",
        "plt.show()\n",
        "\n",
        "# Correlation Heatmap\n",
        "correlation_matrix = data[[variable1, variable2]].corr()\n",
        "plt.figure(figsize=(8, 6))\n",
        "sns.heatmap(correlation_matrix, annot=True, cmap='coolwarm', fmt=\".2f\")\n",
        "plt.title('Correlation Heatmap of {} and {}'.format(variable1, variable2))\n",
        "plt.show()\n",
        "\n",
        "# Joint Plot with Regression Line\n",
        "sns.jointplot(x=variable1, y=variable2, data=data, kind='reg')\n",
        "plt.suptitle('Joint Plot with Regression Line of {} and {}'.format(variable1, variable2), y=1.02)\n",
        "plt.show()"
      ]
    },
    {
      "cell_type": "code",
      "execution_count": null,
      "metadata": {
        "colab": {
          "base_uri": "https://localhost:8080/",
          "height": 1000
        },
        "id": "9oLowPspVzDu",
        "outputId": "c4e4ee63-3c96-4a8d-92a3-625548c8c288"
      },
      "outputs": [],
      "source": [
        "variable1 = 'Yield'\n",
        "variable2 = 'Crop'\n",
        "\n",
        "# Scatter Plot\n",
        "plt.figure(figsize=(10, 6))\n",
        "plt.scatter(data[variable1], data[variable2])\n",
        "plt.title('Scatter Plot of {} vs {}'.format(variable1, variable2))\n",
        "plt.xlabel(variable1)\n",
        "plt.ylabel(variable2)\n",
        "plt.show()\n",
        "\n",
        "# Pair Plot (for multiple variables)\n",
        "sns.pairplot(data[[variable1, variable2]])  # Add more variables if needed\n",
        "plt.suptitle('Pair Plot of {} and {}'.format(variable1, variable2), y=1.02)\n",
        "plt.show()\n",
        "\n",
        "# Correlation Heatmap\n",
        "correlation_matrix = data[[variable1, variable2]].corr()\n",
        "plt.figure(figsize=(8, 6))\n",
        "sns.heatmap(correlation_matrix, annot=True, cmap='coolwarm', fmt=\".2f\")\n",
        "plt.title('Correlation Heatmap of {} and {}'.format(variable1, variable2))\n",
        "plt.show()\n",
        "\n",
        "# Joint Plot with Regression Line\n",
        "sns.jointplot(x=variable1, y=variable2, data=data, kind='reg')\n",
        "plt.suptitle('Joint Plot with Regression Line of {} and {}'.format(variable1, variable2), y=1.02)\n",
        "plt.show()"
      ]
    },
    {
      "cell_type": "markdown",
      "metadata": {
        "id": "h7JybsrNcMR-"
      },
      "source": [
        "MultiVariate Analysis"
      ]
    },
    {
      "cell_type": "code",
      "execution_count": null,
      "metadata": {
        "colab": {
          "base_uri": "https://localhost:8080/",
          "height": 772
        },
        "id": "kUaceVsoVzGV",
        "outputId": "944fda95-b0aa-4574-a06f-3d688d9a03b7"
      },
      "outputs": [],
      "source": [
        "correlation_matrix = data.corr()\n",
        "\n",
        "# Visualize the correlation matrix using a heatmap\n",
        "plt.figure(figsize=(12, 8))\n",
        "sns.heatmap(correlation_matrix, annot=True, cmap='coolwarm', fmt='.2f', linewidths=.5)\n",
        "plt.title('Correlation Matrix')\n",
        "plt.show()"
      ]
    },
    {
      "cell_type": "code",
      "execution_count": null,
      "metadata": {
        "id": "1c_4rzXQCVjg"
      },
      "outputs": [],
      "source": [
        "features = data.drop('Crop', axis=1)\n",
        "target = data['Crop']"
      ]
    },
    {
      "cell_type": "code",
      "execution_count": null,
      "metadata": {
        "id": "i7sAuTUkC1O0"
      },
      "outputs": [],
      "source": [
        "from sklearn.model_selection import train_test_split\n",
        "X_train, X_test, y_train, y_test = train_test_split(features, target, test_size=0.2, random_state=42)"
      ]
    },
    {
      "cell_type": "markdown",
      "metadata": {
        "id": "XA-elh7xF4k-"
      },
      "source": [
        "Using Decision Trees Classifier"
      ]
    },
    {
      "cell_type": "code",
      "execution_count": null,
      "metadata": {
        "id": "LSwf8f3oF2Ss"
      },
      "outputs": [],
      "source": [
        "from sklearn.tree import DecisionTreeClassifier\n",
        "from sklearn.metrics import accuracy_score, precision_score, recall_score, f1_score, confusion_matrix"
      ]
    },
    {
      "cell_type": "code",
      "execution_count": null,
      "metadata": {
        "colab": {
          "base_uri": "https://localhost:8080/",
          "height": 74
        },
        "id": "wW9LuuLyF_VR",
        "outputId": "687d20b8-d440-4d97-9326-214135f3f268"
      },
      "outputs": [],
      "source": [
        "# Create and fit the decision tree model for classification\n",
        "model = DecisionTreeClassifier(random_state=42)\n",
        "model.fit(X_train, y_train)"
      ]
    },
    {
      "cell_type": "code",
      "execution_count": null,
      "metadata": {
        "id": "Hxryi9SujndM"
      },
      "outputs": [],
      "source": [
        "# Make predictions on the training set\n",
        "train_predictions = model.predict(X_train)"
      ]
    },
    {
      "cell_type": "code",
      "execution_count": null,
      "metadata": {
        "id": "Wu35anAMGD4l"
      },
      "outputs": [],
      "source": [
        "# Make predictions on the test set\n",
        "test_predictions = model.predict(X_test)"
      ]
    },
    {
      "cell_type": "code",
      "execution_count": null,
      "metadata": {
        "colab": {
          "base_uri": "https://localhost:8080/"
        },
        "id": "MeVHIw_-lML5",
        "outputId": "579422c8-e85b-484f-d529-ea6107c89d04"
      },
      "outputs": [],
      "source": [
        "# Accuracy\n",
        "train_accuracy = accuracy_score(y_train, train_predictions) * 100\n",
        "test_accuracy = accuracy_score(y_test, test_predictions) * 100\n",
        "# Display the results\n",
        "print(\"Training Accuracy:\", train_accuracy)\n",
        "print(\"Testing Accuracy:\", test_accuracy)"
      ]
    },
    {
      "cell_type": "code",
      "execution_count": null,
      "metadata": {
        "colab": {
          "base_uri": "https://localhost:8080/"
        },
        "id": "xL5CzYTflXH-",
        "outputId": "e4aae0a0-31ad-482b-d9b9-b545b7f369ef"
      },
      "outputs": [],
      "source": [
        "# Precision\n",
        "train_precision = precision_score(y_train, train_predictions, average='weighted') * 100\n",
        "test_precision = precision_score(y_test, test_predictions, average='weighted') * 100\n",
        "\n",
        "# Display the results\n",
        "print(\"\\nTraining Precision:\", train_precision)\n",
        "print(\"Testing Precision:\", test_precision)"
      ]
    },
    {
      "cell_type": "code",
      "execution_count": null,
      "metadata": {
        "colab": {
          "base_uri": "https://localhost:8080/"
        },
        "id": "0_VWrY1IlaPH",
        "outputId": "deccc377-72e7-4d4a-cdaa-ef75a79c30f1"
      },
      "outputs": [],
      "source": [
        "# Recall\n",
        "train_recall = recall_score(y_train, train_predictions, average='weighted') * 100\n",
        "test_recall = recall_score(y_test, test_predictions, average='weighted') * 100\n",
        "\n",
        "# Display the results\n",
        "print(\"\\nTraining Recall:\", train_recall)\n",
        "print(\"Testing Recall:\", test_recall)"
      ]
    },
    {
      "cell_type": "code",
      "execution_count": null,
      "metadata": {
        "colab": {
          "base_uri": "https://localhost:8080/"
        },
        "id": "xTyIXrMJleAN",
        "outputId": "b631c8af-9840-4b74-b81e-e6b76f7a0c7e"
      },
      "outputs": [],
      "source": [
        "# F1 Score\n",
        "train_f1 = f1_score(y_train, train_predictions, average='weighted') * 100\n",
        "test_f1 = f1_score(y_test, test_predictions, average='weighted') * 100\n",
        "\n",
        "# Display the results\n",
        "print(\"\\nTraining F1 Score:\", train_f1)\n",
        "print(\"Testing F1 Score:\", test_f1)"
      ]
    },
    {
      "cell_type": "code",
      "execution_count": null,
      "metadata": {
        "colab": {
          "base_uri": "https://localhost:8080/"
        },
        "id": "sOW_TuUdlhZY",
        "outputId": "ee40e8d3-44b1-4e99-f77b-be3fc810cb29"
      },
      "outputs": [],
      "source": [
        "# Confusion Matrix\n",
        "conf_matrix_train = confusion_matrix(y_train, train_predictions)\n",
        "conf_matrix_test = confusion_matrix(y_test, test_predictions)\n",
        "\n",
        "# Display the results\n",
        "print(\"\\nConfusion Matrix (Training):\\n\", conf_matrix_train)\n",
        "print(\"\\nConfusion Matrix (Testing):\\n\", conf_matrix_test)"
      ]
    },
    {
      "cell_type": "code",
      "execution_count": null,
      "metadata": {
        "colab": {
          "base_uri": "https://localhost:8080/",
          "height": 722
        },
        "id": "JpKg2uhnGMge",
        "outputId": "243c666c-e730-4fbf-c576-1d8947a08dda"
      },
      "outputs": [],
      "source": [
        "# Plotting the confusion matrix\n",
        "plt.figure(figsize=(12, 8))\n",
        "sns.heatmap(conf_matrix, annot=True, fmt=\"d\", cmap=\"Blues\", xticklabels=model.classes_, yticklabels=model.classes_)\n",
        "plt.xlabel(\"Predicted Crop\")\n",
        "plt.ylabel(\"Actual Crop\")\n",
        "plt.title(\"Decision Tree Classification: Confusion Matrix\")\n",
        "plt.show()"
      ]
    },
    {
      "cell_type": "code",
      "execution_count": null,
      "metadata": {
        "colab": {
          "base_uri": "https://localhost:8080/",
          "height": 423
        },
        "id": "6rrKsEJxHlD3",
        "outputId": "c3dd24b7-8b4e-4648-a4dd-cf0bd699c1aa"
      },
      "outputs": [],
      "source": [
        "X_train"
      ]
    },
    {
      "cell_type": "code",
      "execution_count": null,
      "metadata": {
        "colab": {
          "base_uri": "https://localhost:8080/"
        },
        "id": "LAcsFdpwG-U5",
        "outputId": "a1d88616-14d3-4c49-9ea5-316fceda816d"
      },
      "outputs": [],
      "source": [
        "y_train.head(15795)"
      ]
    },
    {
      "cell_type": "code",
      "execution_count": null,
      "metadata": {
        "colab": {
          "base_uri": "https://localhost:8080/"
        },
        "id": "PfGnOh5eH8RA",
        "outputId": "5aafe578-ee44-4d8e-9015-32430b8d1320"
      },
      "outputs": [],
      "source": [
        "model.predict([['30',\t'1',\t'50.0',\t'60.0',\t'30.0',\t'5.58',\t'75.32',\t'22.676000',\t'6.0',\t'7.0',\t'1.166667']])"
      ]
    },
    {
      "cell_type": "markdown",
      "metadata": {
        "id": "AOMY62GjUufB"
      },
      "source": [
        "Using random forest classification"
      ]
    },
    {
      "cell_type": "code",
      "execution_count": null,
      "metadata": {
        "id": "_29YUH9_GQfe"
      },
      "outputs": [],
      "source": [
        "from sklearn.ensemble import RandomForestClassifier\n",
        "from sklearn.metrics import accuracy_score, precision_score, recall_score, f1_score, confusion_matrix"
      ]
    },
    {
      "cell_type": "code",
      "execution_count": null,
      "metadata": {
        "colab": {
          "base_uri": "https://localhost:8080/",
          "height": 74
        },
        "id": "Zmu21oI1WA97",
        "outputId": "5ed72bb1-45c3-496d-ccba-61af3fa81a4f"
      },
      "outputs": [],
      "source": [
        "# Create and fit the Random Forest model for classification\n",
        "rfmodel = RandomForestClassifier(criterion='gini',n_estimators=100, random_state=42)\n",
        "rfmodel.fit(X_train, y_train)"
      ]
    },
    {
      "cell_type": "code",
      "execution_count": null,
      "metadata": {
        "id": "NVWu03infQsk"
      },
      "outputs": [],
      "source": [
        "# Make predictions on the training set\n",
        "train_predictions = rfmodel.predict(X_train)"
      ]
    },
    {
      "cell_type": "code",
      "execution_count": null,
      "metadata": {
        "id": "N_4S5I6xWFou"
      },
      "outputs": [],
      "source": [
        "# Make predictions on the test set\n",
        "test_predictions = rfmodel.predict(X_test)"
      ]
    },
    {
      "cell_type": "code",
      "execution_count": null,
      "metadata": {
        "colab": {
          "base_uri": "https://localhost:8080/"
        },
        "id": "uO3KEsjygN5T",
        "outputId": "b1a81df8-ab2f-4c93-a2e9-f26601fb282c"
      },
      "outputs": [],
      "source": [
        "# Accuracy\n",
        "train_accuracy = accuracy_score(y_train, train_predictions) * 100\n",
        "test_accuracy = accuracy_score(y_test, test_predictions) * 100\n",
        "\n",
        "# Display the results\n",
        "print(\"Training Accuracy:\", train_accuracy)\n",
        "print(\"Testing Accuracy:\", test_accuracy)"
      ]
    },
    {
      "cell_type": "code",
      "execution_count": null,
      "metadata": {
        "colab": {
          "base_uri": "https://localhost:8080/"
        },
        "id": "TJNTK7DXgRoY",
        "outputId": "6a855f56-519f-498d-ae7f-e3e2ec9c735e"
      },
      "outputs": [],
      "source": [
        "# Precision\n",
        "train_precision = precision_score(y_train, train_predictions, average='weighted') * 100\n",
        "test_precision = precision_score(y_test, test_predictions, average='weighted') * 100\n",
        "\n",
        "# Display the results\n",
        "print(\"\\nTraining Precision:\", train_precision)\n",
        "print(\"Testing Precision:\", test_precision)"
      ]
    },
    {
      "cell_type": "code",
      "execution_count": null,
      "metadata": {
        "colab": {
          "base_uri": "https://localhost:8080/"
        },
        "id": "GB3ZjZeWgVJZ",
        "outputId": "ec762ac4-c03a-4774-9db1-96cc0e887684"
      },
      "outputs": [],
      "source": [
        "# Recall\n",
        "train_recall = recall_score(y_train, train_predictions, average='weighted') * 100\n",
        "test_recall = recall_score(y_test, test_predictions, average='weighted') * 100\n",
        "\n",
        "# Display the results\n",
        "print(\"\\nTraining Recall:\", train_recall)\n",
        "print(\"Testing Recall:\", test_recall)"
      ]
    },
    {
      "cell_type": "code",
      "execution_count": null,
      "metadata": {
        "colab": {
          "base_uri": "https://localhost:8080/"
        },
        "id": "H_wpMy1Egm-X",
        "outputId": "0d077fde-f40b-4efc-b2a7-884615a166aa"
      },
      "outputs": [],
      "source": [
        "# F1 Score\n",
        "train_f1 = f1_score(y_train, train_predictions, average='weighted') * 100\n",
        "test_f1 = f1_score(y_test, test_predictions, average='weighted') * 100\n",
        "\n",
        "# Display the results\n",
        "print(\"\\nTraining F1 Score:\", train_f1)\n",
        "print(\"Testing F1 Score:\", test_f1)"
      ]
    },
    {
      "cell_type": "code",
      "execution_count": null,
      "metadata": {
        "colab": {
          "base_uri": "https://localhost:8080/"
        },
        "id": "g6coQzz1gqsA",
        "outputId": "2e754b22-b32d-46ec-d877-29475ca795a2"
      },
      "outputs": [],
      "source": [
        "# Confusion Matrix\n",
        "conf_matrix_train = confusion_matrix(y_train, train_predictions)\n",
        "conf_matrix_test = confusion_matrix(y_test, test_predictions)\n",
        "\n",
        "# Display the results\n",
        "print(\"\\nConfusion Matrix (Training):\\n\", conf_matrix_train)\n",
        "print(\"\\nConfusion Matrix (Testing):\\n\", conf_matrix_test)"
      ]
    },
    {
      "cell_type": "code",
      "execution_count": null,
      "metadata": {
        "colab": {
          "base_uri": "https://localhost:8080/",
          "height": 722
        },
        "id": "jWSeTX-OWPpP",
        "outputId": "4af268d2-71f5-42b5-ec6a-b074ddf7b5f4"
      },
      "outputs": [],
      "source": [
        "# # Plotting the confusion matrix\n",
        "# plt.figure(figsize=(12, 8))\n",
        "# sns.heatmap(conf_matrix, annot=True, fmt=\"d\", cmap=\"Blues\", xticklabels=model.classes_, yticklabels=model.classes_)\n",
        "# plt.xlabel(\"Predicted Crop\")\n",
        "# plt.ylabel(\"Actual Crop\")\n",
        "# plt.title(\"Random Forest Classification: Confusion Matrix\")\n",
        "# plt.show()"
      ]
    },
    {
      "cell_type": "code",
      "execution_count": null,
      "metadata": {
        "colab": {
          "base_uri": "https://localhost:8080/",
          "height": 572
        },
        "id": "cfXolNUvhnlG",
        "outputId": "3b50cade-6f47-4e56-bfad-98910b1d70d0"
      },
      "outputs": [],
      "source": [
        "# Visualize your results\n",
        "# plt.figure(figsize=[8,6])\n",
        "# plt.bar(['Accuracy'], [accuracy], color=['blue'])\n",
        "# plt.xlabel('Metrics', fontsize=16)\n",
        "# plt.ylabel('Value', fontsize=16)\n",
        "# plt.title('Model Evaluation', fontsize=16)\n",
        "# plt.show()"
      ]
    },
    {
      "cell_type": "code",
      "execution_count": null,
      "metadata": {
        "colab": {
          "base_uri": "https://localhost:8080/",
          "height": 423
        },
        "id": "2riis7iGW5W2",
        "outputId": "3a82a3a4-1852-45c5-85e9-89429c58a1a3"
      },
      "outputs": [],
      "source": [
        "X_train"
      ]
    },
    {
      "cell_type": "code",
      "execution_count": null,
      "metadata": {
        "colab": {
          "base_uri": "https://localhost:8080/"
        },
        "id": "V4rnZupGW5rr",
        "outputId": "00d6e964-9505-430b-f5be-4cdb9d6f1881"
      },
      "outputs": [],
      "source": [
        "y_train.head(1000)"
      ]
    },
    {
      "cell_type": "code",
      "execution_count": 133,
      "metadata": {
        "colab": {
          "base_uri": "https://localhost:8080/"
        },
        "id": "v7zk9Q-6W2pk",
        "outputId": "999c961b-3a4b-41af-95d8-4bd65e575883"
      },
      "outputs": [
        {
          "name": "stderr",
          "output_type": "stream",
          "text": [
            "c:\\Users\\rvssm\\anaconda3\\Lib\\site-packages\\sklearn\\base.py:465: UserWarning: X does not have valid feature names, but RandomForestClassifier was fitted with feature names\n",
            "  warnings.warn(\n"
          ]
        },
        {
          "data": {
            "text/plain": [
              "array([44])"
            ]
          },
          "execution_count": 133,
          "metadata": {},
          "output_type": "execute_result"
        }
      ],
      "source": [
        "new_data = ['32',\t'1',\t'30.0',\t'15.0',\t'30.0',\t'6.66',\t'152.54',\t'22.280000',\t'10.0',\t'4.0',\t'0.400000']\n",
        "\n",
        "rfmodel.predict([new_data])"
      ]
    },
    {
      "cell_type": "markdown",
      "metadata": {
        "id": "-zKdQHbmXkx6"
      },
      "source": [
        "Using KNN algorithm"
      ]
    },
    {
      "cell_type": "code",
      "execution_count": null,
      "metadata": {
        "id": "7l2UEuxrWjfz"
      },
      "outputs": [],
      "source": [
        "from sklearn.preprocessing import StandardScaler\n",
        "from sklearn.neighbors import KNeighborsClassifier\n",
        "from sklearn.metrics import accuracy_score, precision_score, recall_score, f1_score, confusion_matrix"
      ]
    },
    {
      "cell_type": "code",
      "execution_count": null,
      "metadata": {
        "id": "jQwhwYI2uSVm"
      },
      "outputs": [],
      "source": [
        "from sklearn.model_selection import train_test_split\n",
        "X_train, X_test, y_train, y_test = train_test_split(features, target, test_size=0.2, random_state=42)"
      ]
    },
    {
      "cell_type": "code",
      "execution_count": null,
      "metadata": {
        "id": "9wUQ9NNeZXoY"
      },
      "outputs": [],
      "source": [
        "# Standardize numerical features using StandardScaler\n",
        "scaler = StandardScaler()\n",
        "X_train = scaler.fit_transform(X_train)\n",
        "X_test = scaler.transform(X_test)"
      ]
    },
    {
      "cell_type": "code",
      "execution_count": null,
      "metadata": {
        "colab": {
          "base_uri": "https://localhost:8080/",
          "height": 74
        },
        "id": "GKkcF-d8ZfAo",
        "outputId": "121bb737-dc76-4615-a7db-f4ba46d716a4"
      },
      "outputs": [],
      "source": [
        "# Create and fit the KNN model\n",
        "knn_model = KNeighborsClassifier(n_neighbors=5)  # You can experiment with different values of 'n_neighbors'\n",
        "knn_model.fit(X_train, y_train)"
      ]
    },
    {
      "cell_type": "code",
      "execution_count": null,
      "metadata": {
        "colab": {
          "base_uri": "https://localhost:8080/"
        },
        "id": "t006PERAt_MR",
        "outputId": "f42a1408-5fbc-4f88-b748-36909437d0a0"
      },
      "outputs": [],
      "source": [
        "# Make predictions on the training set\n",
        "train_predictions = model.predict(X_train)"
      ]
    },
    {
      "cell_type": "code",
      "execution_count": null,
      "metadata": {
        "id": "ul7jx_0DZjgP"
      },
      "outputs": [],
      "source": [
        "# Make predictions on the test set\n",
        "test_predictions = knn_model.predict(X_test)"
      ]
    },
    {
      "cell_type": "code",
      "execution_count": null,
      "metadata": {
        "colab": {
          "base_uri": "https://localhost:8080/"
        },
        "id": "hgBQVHiqucPs",
        "outputId": "87bbee31-035f-4c55-d89c-d8ad6501d85f"
      },
      "outputs": [],
      "source": [
        "# Accuracy\n",
        "train_accuracy = accuracy_score(y_train, train_predictions) * 100\n",
        "test_accuracy = accuracy_score(y_test, test_predictions) * 100\n",
        "\n",
        "# Display the results\n",
        "print(\"Training Accuracy:\", train_accuracy)\n",
        "print(\"Testing Accuracy:\", test_accuracy)"
      ]
    },
    {
      "cell_type": "code",
      "execution_count": null,
      "metadata": {
        "colab": {
          "base_uri": "https://localhost:8080/"
        },
        "id": "pdWRP1RXugTC",
        "outputId": "2378f95a-6457-4201-c38b-29a77d4acb88"
      },
      "outputs": [],
      "source": [
        "# Precision\n",
        "train_precision = precision_score(y_train, train_predictions, average='weighted') * 100\n",
        "test_precision = precision_score(y_test, test_predictions, average='weighted') * 100\n",
        "\n",
        "# Display the results\n",
        "print(\"\\nTraining Precision:\", train_precision)\n",
        "print(\"Testing Precision:\", test_precision)"
      ]
    },
    {
      "cell_type": "code",
      "execution_count": null,
      "metadata": {
        "colab": {
          "base_uri": "https://localhost:8080/"
        },
        "id": "0MbwS_AHujnH",
        "outputId": "cab91c27-716d-4c17-8022-0e709b4fb066"
      },
      "outputs": [],
      "source": [
        "# Recall\n",
        "train_recall = recall_score(y_train, train_predictions, average='weighted') * 100\n",
        "test_recall = recall_score(y_test, test_predictions, average='weighted') * 100\n",
        "\n",
        "# Display the results\n",
        "print(\"\\nTraining Recall:\", train_recall)\n",
        "print(\"Testing Recall:\", test_recall)"
      ]
    },
    {
      "cell_type": "code",
      "execution_count": null,
      "metadata": {
        "colab": {
          "base_uri": "https://localhost:8080/"
        },
        "id": "oPGG9H4uunVj",
        "outputId": "25f82e94-306d-4e01-edf4-3f331a1aa85d"
      },
      "outputs": [],
      "source": [
        "# F1 Score\n",
        "train_f1 = f1_score(y_train, train_predictions, average='weighted') * 100\n",
        "test_f1 = f1_score(y_test, test_predictions, average='weighted') * 100\n",
        "\n",
        "# Display the results\n",
        "print(\"\\nTraining F1 Score:\", train_f1)\n",
        "print(\"Testing F1 Score:\", test_f1)"
      ]
    },
    {
      "cell_type": "code",
      "execution_count": null,
      "metadata": {
        "colab": {
          "base_uri": "https://localhost:8080/"
        },
        "id": "AOnHSqZouqdA",
        "outputId": "6df9e572-5d73-4427-c9a6-0966698da287"
      },
      "outputs": [],
      "source": [
        "# Confusion Matrix\n",
        "conf_matrix_train = confusion_matrix(y_train, train_predictions)\n",
        "conf_matrix_test = confusion_matrix(y_test, test_predictions)\n",
        "\n",
        "# Display the results\n",
        "print(\"\\nConfusion Matrix (Training):\\n\", conf_matrix_train)\n",
        "print(\"\\nConfusion Matrix (Testing):\\n\", conf_matrix_test)"
      ]
    },
    {
      "cell_type": "code",
      "execution_count": null,
      "metadata": {
        "colab": {
          "base_uri": "https://localhost:8080/",
          "height": 722
        },
        "id": "z-uVKqREZvKB",
        "outputId": "000014e8-da08-4492-e825-f2570a073422"
      },
      "outputs": [],
      "source": [
        "# Plotting the confusion matrix\n",
        "plt.figure(figsize=(12, 8))\n",
        "sns.heatmap(conf_matrix, annot=True, fmt=\"d\", cmap=\"Blues\", xticklabels=knn_model.classes_, yticklabels=knn_model.classes_)\n",
        "plt.xlabel(\"Predicted Crop\")\n",
        "plt.ylabel(\"Actual Crop\")\n",
        "plt.title(\"K-Nearest Neighbors Classification: Confusion Matrix\")\n",
        "plt.show()"
      ]
    },
    {
      "cell_type": "code",
      "execution_count": null,
      "metadata": {
        "colab": {
          "base_uri": "https://localhost:8080/"
        },
        "id": "Gsut0SCsaACT",
        "outputId": "220f4132-ffa9-416c-9bbd-1a166bbf319e"
      },
      "outputs": [],
      "source": [
        "X_train"
      ]
    },
    {
      "cell_type": "code",
      "execution_count": null,
      "metadata": {
        "colab": {
          "base_uri": "https://localhost:8080/"
        },
        "id": "Ch7Q7dFWoMSZ",
        "outputId": "a2ceafb7-8d90-4379-9726-8b52ae250a56"
      },
      "outputs": [],
      "source": [
        "y_train.head(1000)"
      ]
    },
    {
      "cell_type": "code",
      "execution_count": null,
      "metadata": {
        "colab": {
          "base_uri": "https://localhost:8080/"
        },
        "id": "VjwcjTaXoRp0",
        "outputId": "f73b5cbb-63a4-4174-c048-4a7a744a4f81"
      },
      "outputs": [],
      "source": [
        "new_data = ['32',\t'1',\t'30.0',\t'15.0',\t'30.0',\t'6.66',\t'152.54',\t'22.280000',\t'10.0',\t'4.0',\t'0.400000']\n",
        "model.predict([new_data])"
      ]
    },
    {
      "cell_type": "markdown",
      "metadata": {
        "id": "PvAGYD1GXfwR"
      },
      "source": [
        "Using SVM"
      ]
    },
    {
      "cell_type": "code",
      "execution_count": null,
      "metadata": {
        "id": "rFYiBha1Z0TU"
      },
      "outputs": [],
      "source": [
        "from sklearn.svm import SVC\n",
        "from sklearn.metrics import accuracy_score, precision_score, recall_score, f1_score, confusion_matrix\n",
        "from sklearn.preprocessing import LabelEncoder, StandardScaler"
      ]
    },
    {
      "cell_type": "code",
      "execution_count": null,
      "metadata": {
        "id": "1lQUvRlQXesI"
      },
      "outputs": [],
      "source": [
        "# Standardize the features (important for SVM)\n",
        "scaler = StandardScaler()\n",
        "X_train_scaled = scaler.fit_transform(X_train)\n",
        "X_test_scaled = scaler.transform(X_test)"
      ]
    },
    {
      "cell_type": "code",
      "execution_count": null,
      "metadata": {
        "colab": {
          "base_uri": "https://localhost:8080/",
          "height": 74
        },
        "id": "0Y18n1INWbJW",
        "outputId": "ce891cda-4f1c-47ba-adb4-55ee414ef9db"
      },
      "outputs": [],
      "source": [
        "# Create and fit the SVM model\n",
        "model = SVC(kernel='linear', C=1.0, random_state=42)  # Linear kernel for simplicity\n",
        "model.fit(X_train_scaled, y_train)"
      ]
    },
    {
      "cell_type": "code",
      "execution_count": null,
      "metadata": {
        "id": "wfuIaRdwyHj1"
      },
      "outputs": [],
      "source": [
        "# Make predictions on the training set\n",
        "train_predictions = model.predict(X_train_scaled)"
      ]
    },
    {
      "cell_type": "code",
      "execution_count": null,
      "metadata": {
        "id": "fXem1AtIZcDf"
      },
      "outputs": [],
      "source": [
        "# Make predictions on the test set\n",
        "test_predictions = model.predict(X_test_scaled)"
      ]
    },
    {
      "cell_type": "code",
      "execution_count": null,
      "metadata": {
        "colab": {
          "base_uri": "https://localhost:8080/"
        },
        "id": "_5URpDJ5ysEj",
        "outputId": "7fe46763-6162-4161-a312-b830b7503d40"
      },
      "outputs": [],
      "source": [
        "# Accuracy\n",
        "train_accuracy = accuracy_score(y_train, train_predictions) * 100\n",
        "test_accuracy = accuracy_score(y_test, test_predictions) * 100\n",
        "\n",
        "# Display the results\n",
        "print(\"Training Accuracy:\", train_accuracy)\n",
        "print(\"Testing Accuracy:\", test_accuracy)"
      ]
    },
    {
      "cell_type": "code",
      "execution_count": null,
      "metadata": {
        "colab": {
          "base_uri": "https://localhost:8080/"
        },
        "id": "qxnROYXdyzU2",
        "outputId": "fe2e8640-7211-4091-8193-09f2b0e14009"
      },
      "outputs": [],
      "source": [
        "# Precision\n",
        "train_precision = precision_score(y_train, train_predictions, average='weighted') * 100\n",
        "test_precision = precision_score(y_test, test_predictions, average='weighted') * 100\n",
        "\n",
        "# Display the results\n",
        "print(\"\\nTraining Precision:\", train_precision)\n",
        "print(\"Testing Precision:\", test_precision)"
      ]
    },
    {
      "cell_type": "code",
      "execution_count": null,
      "metadata": {
        "colab": {
          "base_uri": "https://localhost:8080/"
        },
        "id": "xE2o5WIPy957",
        "outputId": "51c4335e-bc45-43e7-c52a-e3a31ab35556"
      },
      "outputs": [],
      "source": [
        "# Recall\n",
        "train_recall = recall_score(y_train, train_predictions, average='weighted') * 100\n",
        "test_recall = recall_score(y_test, test_predictions, average='weighted') * 100\n",
        "\n",
        "# Display the results\n",
        "print(\"\\nTraining Recall:\", train_recall)\n",
        "print(\"Testing Recall:\", test_recall)"
      ]
    },
    {
      "cell_type": "code",
      "execution_count": null,
      "metadata": {
        "colab": {
          "base_uri": "https://localhost:8080/"
        },
        "id": "9dS65HkszE1a",
        "outputId": "96862c05-b807-4a6d-905d-35c8e9fea7a4"
      },
      "outputs": [],
      "source": [
        "# F1 Score\n",
        "train_f1 = f1_score(y_train, train_predictions, average='weighted') * 100\n",
        "test_f1 = f1_score(y_test, test_predictions, average='weighted') * 100\n",
        "\n",
        "# Display the results\n",
        "print(\"\\nTraining F1 Score:\", train_f1)\n",
        "print(\"Testing F1 Score:\", test_f1)"
      ]
    },
    {
      "cell_type": "code",
      "execution_count": null,
      "metadata": {
        "colab": {
          "base_uri": "https://localhost:8080/"
        },
        "id": "yT3EDruSzMnL",
        "outputId": "02921866-fc5e-4559-a393-6927d16f4fb0"
      },
      "outputs": [],
      "source": [
        "# Confusion Matrix\n",
        "conf_matrix_train = confusion_matrix(y_train, train_predictions)\n",
        "conf_matrix_test = confusion_matrix(y_test, test_predictions)\n",
        "\n",
        "# Display the results\n",
        "print(\"\\nConfusion Matrix (Training):\\n\", conf_matrix_train)\n",
        "print(\"\\nConfusion Matrix (Testing):\\n\", conf_matrix_test)"
      ]
    },
    {
      "cell_type": "code",
      "execution_count": null,
      "metadata": {
        "colab": {
          "base_uri": "https://localhost:8080/",
          "height": 722
        },
        "id": "ZGxmMy57Zp3A",
        "outputId": "9a48e6c8-0ad5-467e-a867-fe266a43ff83"
      },
      "outputs": [],
      "source": [
        "# Plotting the confusion matrix\n",
        "plt.figure(figsize=(12, 8))\n",
        "sns.heatmap(conf_matrix, annot=True, fmt=\"d\", cmap=\"Blues\", xticklabels=model.classes_, yticklabels=model.classes_)\n",
        "plt.xlabel(\"Predicted Crop\")\n",
        "plt.ylabel(\"Actual Crop\")\n",
        "plt.title(\"SVM Classification: Confusion Matrix\")\n",
        "plt.show()"
      ]
    },
    {
      "cell_type": "code",
      "execution_count": null,
      "metadata": {
        "colab": {
          "base_uri": "https://localhost:8080/"
        },
        "id": "oZWEnP3ooVsJ",
        "outputId": "bb2dd353-18db-4651-e1d0-1d87eab3ba12"
      },
      "outputs": [],
      "source": [
        "X_train_scaled"
      ]
    },
    {
      "cell_type": "code",
      "execution_count": null,
      "metadata": {
        "colab": {
          "base_uri": "https://localhost:8080/"
        },
        "id": "iDXDLl0DoZvn",
        "outputId": "4506643b-627d-408c-a993-5761fdce8479"
      },
      "outputs": [],
      "source": [
        "y_train.head(1000)"
      ]
    },
    {
      "cell_type": "code",
      "execution_count": null,
      "metadata": {
        "colab": {
          "base_uri": "https://localhost:8080/"
        },
        "id": "MoM5rZ5sotax",
        "outputId": "1aff60ec-332d-4b51-b658-a7516cb176af"
      },
      "outputs": [],
      "source": [
        "model.predict([['32',\t'1',\t'30.0',\t'15.0',\t'30.0',\t'6.66',\t'152.54',\t'22.280000',\t'10.0',\t'4.0',\t'0.400000']])"
      ]
    },
    {
      "cell_type": "markdown",
      "metadata": {
        "id": "jNREgX9apP6E"
      },
      "source": [
        "Using Gradient Boost Algorithm"
      ]
    },
    {
      "cell_type": "code",
      "execution_count": null,
      "metadata": {
        "id": "el26qgtyZwEP"
      },
      "outputs": [],
      "source": [
        "from sklearn.model_selection import train_test_split\n",
        "from xgboost import XGBClassifier\n",
        "from sklearn.metrics import accuracy_score, precision_score, recall_score, f1_score, confusion_matrix\n",
        "from sklearn.preprocessing import LabelEncoder\n",
        "from sklearn.preprocessing import StandardScaler"
      ]
    },
    {
      "cell_type": "code",
      "execution_count": null,
      "metadata": {
        "id": "GwkrSgMcrBjs"
      },
      "outputs": [],
      "source": [
        "# Standardize the features (important for gradient boosting)\n",
        "scaler = StandardScaler()\n",
        "X_train_scaled = scaler.fit_transform(X_train)\n",
        "X_test_scaled = scaler.transform(X_test)"
      ]
    },
    {
      "cell_type": "code",
      "execution_count": null,
      "metadata": {
        "colab": {
          "base_uri": "https://localhost:8080/",
          "height": 248
        },
        "id": "L3cXvyA5t89p",
        "outputId": "67de550f-3b08-41df-8003-16474fd30b89"
      },
      "outputs": [],
      "source": [
        "# Create and fit the XGBoost model\n",
        "model = XGBClassifier(random_state=42)\n",
        "model.fit(X_train_scaled, y_train)"
      ]
    },
    {
      "cell_type": "code",
      "execution_count": null,
      "metadata": {
        "id": "zc4HSUTjztJd"
      },
      "outputs": [],
      "source": [
        "# Make predictions on the training set\n",
        "train_predictions = model.predict(X_train_scaled)"
      ]
    },
    {
      "cell_type": "code",
      "execution_count": null,
      "metadata": {
        "id": "phKSZvzruDTb"
      },
      "outputs": [],
      "source": [
        "# Make predictions on the test set\n",
        "test_predictions = model.predict(X_test_scaled)"
      ]
    },
    {
      "cell_type": "code",
      "execution_count": null,
      "metadata": {
        "colab": {
          "base_uri": "https://localhost:8080/"
        },
        "id": "3Sy8V7-E0E5Q",
        "outputId": "16b84acb-272b-4856-a8b0-4d2adfd79e77"
      },
      "outputs": [],
      "source": [
        "# Accuracy\n",
        "train_accuracy = accuracy_score(y_train, train_predictions) * 100\n",
        "test_accuracy = accuracy_score(y_test, test_predictions) * 100\n",
        "\n",
        "# Display the results\n",
        "print(\"Training Accuracy:\", train_accuracy)\n",
        "print(\"Testing Accuracy:\", test_accuracy)"
      ]
    },
    {
      "cell_type": "code",
      "execution_count": null,
      "metadata": {
        "colab": {
          "base_uri": "https://localhost:8080/"
        },
        "id": "Y1yqDf_R0Plw",
        "outputId": "9a964189-fb3e-4878-e5ee-104c5adfabd3"
      },
      "outputs": [],
      "source": [
        "# Precision\n",
        "train_precision = precision_score(y_train, train_predictions, average='weighted') * 100\n",
        "test_precision = precision_score(y_test, test_predictions, average='weighted') * 100\n",
        "\n",
        "# Display the results\n",
        "print(\"\\nTraining Precision:\", train_precision)\n",
        "print(\"Testing Precision:\", test_precision)"
      ]
    },
    {
      "cell_type": "code",
      "execution_count": null,
      "metadata": {
        "colab": {
          "base_uri": "https://localhost:8080/"
        },
        "id": "UV-tIWUS0V6J",
        "outputId": "bff2aed2-98b1-4362-fe8f-3e5cbc49b265"
      },
      "outputs": [],
      "source": [
        "# Recall\n",
        "train_recall = recall_score(y_train, train_predictions, average='weighted') * 100\n",
        "test_recall = recall_score(y_test, test_predictions, average='weighted') * 100\n",
        "\n",
        "# Display the results\n",
        "print(\"\\nTraining Recall:\", train_recall)\n",
        "print(\"Testing Recall:\", test_recall)"
      ]
    },
    {
      "cell_type": "code",
      "execution_count": null,
      "metadata": {
        "colab": {
          "base_uri": "https://localhost:8080/"
        },
        "id": "GDT8NY_d0adz",
        "outputId": "0cfbebd5-8a16-4ba9-be94-0803163c6aa0"
      },
      "outputs": [],
      "source": [
        "# F1 Score\n",
        "train_f1 = f1_score(y_train, train_predictions, average='weighted') * 100\n",
        "test_f1 = f1_score(y_test, test_predictions, average='weighted') * 100\n",
        "\n",
        "# Display the results\n",
        "print(\"\\nTraining F1 Score:\", train_f1)\n",
        "print(\"Testing F1 Score:\", test_f1)"
      ]
    },
    {
      "cell_type": "code",
      "execution_count": null,
      "metadata": {
        "colab": {
          "base_uri": "https://localhost:8080/"
        },
        "id": "iB7v7Xoq0fkp",
        "outputId": "0b8a5818-5a90-44e0-83be-f205386c81da"
      },
      "outputs": [],
      "source": [
        "# Confusion Matrix\n",
        "conf_matrix_train = confusion_matrix(y_train, train_predictions)\n",
        "conf_matrix_test = confusion_matrix(y_test, test_predictions)\n",
        "\n",
        "# Display the results\n",
        "print(\"\\nConfusion Matrix (Training):\\n\", conf_matrix_train)\n",
        "print(\"\\nConfusion Matrix (Testing):\\n\", conf_matrix_test)"
      ]
    },
    {
      "cell_type": "code",
      "execution_count": null,
      "metadata": {
        "colab": {
          "base_uri": "https://localhost:8080/",
          "height": 722
        },
        "id": "IboZLwMiuLk7",
        "outputId": "4a8a22cf-5fb2-4db9-b07d-08e4cf77730b"
      },
      "outputs": [],
      "source": [
        "# Plotting the confusion matrix\n",
        "plt.figure(figsize=(12, 8))\n",
        "sns.heatmap(conf_matrix, annot=True, fmt=\"d\", cmap=\"Blues\", xticklabels=model.classes_, yticklabels=model.classes_)\n",
        "plt.xlabel(\"Predicted Crop\")\n",
        "plt.ylabel(\"Actual Crop\")\n",
        "plt.title(\"XGBoost Classification: Confusion Matrix\")\n",
        "plt.show()"
      ]
    },
    {
      "cell_type": "code",
      "execution_count": 134,
      "metadata": {
        "id": "11Ll-bcg0h9s"
      },
      "outputs": [
        {
          "data": {
            "text/plain": [
              "['mymodel.pkl']"
            ]
          },
          "execution_count": 134,
          "metadata": {},
          "output_type": "execute_result"
        }
      ],
      "source": [
        "import pickle\n",
        "import joblib\n",
        "filename='mymodel.pkl'\n",
        "joblib.dump(rfmodel,filename)"
      ]
    }
  ],
  "metadata": {
    "colab": {
      "provenance": []
    },
    "kernelspec": {
      "display_name": "Python 3",
      "name": "python3"
    },
    "language_info": {
      "codemirror_mode": {
        "name": "ipython",
        "version": 3
      },
      "file_extension": ".py",
      "mimetype": "text/x-python",
      "name": "python",
      "nbconvert_exporter": "python",
      "pygments_lexer": "ipython3",
      "version": "3.11.5"
    }
  },
  "nbformat": 4,
  "nbformat_minor": 0
}
